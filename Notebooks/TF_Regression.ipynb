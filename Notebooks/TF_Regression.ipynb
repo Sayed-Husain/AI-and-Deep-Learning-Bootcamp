{
  "nbformat": 4,
  "nbformat_minor": 0,
  "metadata": {
    "colab": {
      "provenance": [],
      "toc_visible": true
    },
    "kernelspec": {
      "name": "python3",
      "display_name": "Python 3"
    },
    "language_info": {
      "name": "python"
    }
  },
  "cells": [
    {
      "cell_type": "markdown",
      "source": [
        "# Neural Network Regression with TensorFlow\n"
      ],
      "metadata": {
        "id": "w-a7NcypWql5"
      }
    },
    {
      "cell_type": "markdown",
      "source": [
        "##Introduction\n",
        "In this notebook, we will delve into the world of neural network regression using TensorFlow. We will build a simple neural network model to perform regression, predicting a continuous output based on input features. We'll go through the steps of creating a synthetic dataset, designing a neural network model, compiling the model, training it, and making predictions. By the end of this notebook, you'll have a basic understanding of how to use TensorFlow for regression tasks."
      ],
      "metadata": {
        "id": "UGuuA3atXiny"
      }
    },
    {
      "cell_type": "markdown",
      "source": [
        "## Table of Contents\n",
        "\n",
        "1. **Creating the Dataset**\n",
        "2. **Building the Neural Network Model**\n",
        "3. **Compiling and Training the Model**\n",
        "4. **Making Predictions**\n",
        "5. **Improve the model**\n",
        "    \n",
        "    5.1. Train for More Epochs\n",
        "\n",
        "    5.2. Increase Model Complexity\n",
        "    \n",
        "    5.3. Use Different Optimizers\n",
        "\n",
        "Let's get started"
      ],
      "metadata": {
        "id": "JId1PJE1Xk9U"
      }
    },
    {
      "cell_type": "markdown",
      "source": [
        "##1. Creating the Dataset\n",
        "We'll begin by generating a synthetic dataset that follows a linear relationship between features and labels. The features will be stored as TensorFlow tensors for compatibility with the neural network model."
      ],
      "metadata": {
        "id": "b7XmCFXmXxhC"
      }
    },
    {
      "cell_type": "code",
      "source": [
        "import tensorflow as tf\n",
        "import numpy as np\n",
        "import matplotlib.pyplot as plt\n",
        "\n",
        "# Create features (using tensors)\n",
        "X = tf.constant([-7.0, -4.0, -1.0, 2.0, 5.0, 8.0, 11.0, 14.0])\n",
        "\n",
        "# Create labels (using tensors)\n",
        "y = tf.constant([3.0, 6.0, 9.0, 12.0, 15.0, 18.0, 21.0, 24.0])\n",
        "\n",
        "# Visualize the dataset\n",
        "plt.scatter(X, y)\n",
        "plt.xlabel(\"Features\")\n",
        "plt.ylabel(\"Labels\")\n",
        "plt.title(\"Synthetic Dataset\")\n",
        "plt.show()\n"
      ],
      "metadata": {
        "colab": {
          "base_uri": "https://localhost:8080/",
          "height": 472
        },
        "id": "z5W2QDOqX03O",
        "outputId": "674257fc-b0dd-4b03-e1dc-0344ebf9226d"
      },
      "execution_count": 1,
      "outputs": [
        {
          "output_type": "display_data",
          "data": {
            "text/plain": [
              "<Figure size 640x480 with 1 Axes>"
            ],
            "image/png": "[encoded data removed]"
          },
          "metadata": {}
        }
      ]
    },
    {
      "cell_type": "markdown",
      "source": [
        "## 2. Building the Neural Network Model\n",
        "Next, we'll design a neural network model using TensorFlow's Sequential API. Our model will consist of a single Dense layer. In this simple example, we're aiming to learn a linear relationship, so a single neuron should be sufficient."
      ],
      "metadata": {
        "id": "itBnfMGjX3px"
      }
    },
    {
      "cell_type": "code",
      "source": [
        "# Create a model using the Sequential API\n",
        "model = tf.keras.Sequential([\n",
        "  tf.keras.layers.Dense(1)  # Single neuron in the layer\n",
        "])"
      ],
      "metadata": {
        "id": "XqpouVrxX7BY"
      },
      "execution_count": 2,
      "outputs": []
    },
    {
      "cell_type": "markdown",
      "source": [
        "## 3. Compiling and Training the Model\n",
        "Once the model is defined, we need to compile it before training. We'll specify the loss function, optimizer, and metrics to monitor during training."
      ],
      "metadata": {
        "id": "4Ne2MnarYAGT"
      }
    },
    {
      "cell_type": "code",
      "source": [
        "# Compile the model\n",
        "model.compile(loss=tf.keras.losses.mae,  # Mean Absolute Error loss\n",
        "              optimizer=tf.keras.optimizers.SGD(),  # Stochastic Gradient Descent optimizer\n",
        "              metrics=[\"mae\"])  # Metric to monitor: Mean Absolute Error\n",
        "\n",
        "# Fit the model to the data\n",
        "model.fit(tf.expand_dims(X, axis=-1), y, epochs=5)  # Expand dimensions of X to match input shape\n"
      ],
      "metadata": {
        "colab": {
          "base_uri": "https://localhost:8080/"
        },
        "id": "X9ZVFbbPYCIB",
        "outputId": "592362ae-ce4c-4e11-e8f1-51fd0010bb44"
      },
      "execution_count": 3,
      "outputs": [
        {
          "output_type": "stream",
          "name": "stdout",
          "text": [
            "Epoch 1/5\n",
            "1/1 [==============================] - 1s 749ms/step - loss: 12.3340 - mae: 12.3340\n",
            "Epoch 2/5\n",
            "1/1 [==============================] - 0s 13ms/step - loss: 12.2015 - mae: 12.2015\n",
            "Epoch 3/5\n",
            "1/1 [==============================] - 0s 13ms/step - loss: 12.0690 - mae: 12.0690\n",
            "Epoch 4/5\n",
            "1/1 [==============================] - 0s 13ms/step - loss: 11.9365 - mae: 11.9365\n",
            "Epoch 5/5\n",
            "1/1 [==============================] - 0s 12ms/step - loss: 11.8040 - mae: 11.8040\n"
          ]
        },
        {
          "output_type": "execute_result",
          "data": {
            "text/plain": [
              "<keras.callbacks.History at 0x7bcb386161a0>"
            ]
          },
          "metadata": {},
          "execution_count": 3
        }
      ]
    },
    {
      "cell_type": "markdown",
      "source": [
        "## 4. Making Predictions\n",
        "After training, we can use the trained model to make predictions on new data."
      ],
      "metadata": {
        "id": "YSHMiW69YH6E"
      }
    },
    {
      "cell_type": "code",
      "source": [
        "# Make a prediction using the trained model\n",
        "prediction = model.predict([17.0])\n",
        "print(\"Prediction for input 17.0:\", prediction)\n"
      ],
      "metadata": {
        "colab": {
          "base_uri": "https://localhost:8080/"
        },
        "id": "TCHc_mUMYLnN",
        "outputId": "4fe7d3f9-cde0-44d7-9806-5a739a596d3d"
      },
      "execution_count": 4,
      "outputs": [
        {
          "output_type": "stream",
          "name": "stdout",
          "text": [
            "1/1 [==============================] - 0s 102ms/step\n",
            "Prediction for input 17.0: [[8.688275]]\n"
          ]
        }
      ]
    },
    {
      "cell_type": "markdown",
      "source": [
        "## 5. Improving the Model\n",
        "Now that we have a basic understanding of creating and training a neural network model for regression, let's explore some techniques to improve the model's performance. Keep in mind that model improvement is often an iterative process involving experimentation and analysis."
      ],
      "metadata": {
        "id": "2HJgIT5EYM0I"
      }
    },
    {
      "cell_type": "markdown",
      "source": [
        "### 5.1. Train for More Epochs\n",
        "One straightforward way to potentially improve the model's performance is to train it for more epochs. This allows the model to observe the data for a longer period, which can lead to better convergence and potentially better performance."
      ],
      "metadata": {
        "id": "G5278VmkYVch"
      }
    },
    {
      "cell_type": "code",
      "source": [
        "# Fit the model for more epochs\n",
        "model.fit(tf.expand_dims(X, axis=-1), y, epochs=100)  # Increase the number of epochs"
      ],
      "metadata": {
        "colab": {
          "base_uri": "https://localhost:8080/"
        },
        "id": "MX7klg8rYXSP",
        "outputId": "8c3e37a5-9bc3-45df-8e68-f668ad1630a5"
      },
      "execution_count": 5,
      "outputs": [
        {
          "output_type": "stream",
          "name": "stdout",
          "text": [
            "Epoch 1/100\n",
            "1/1 [==============================] - 0s 11ms/step - loss: 11.6715 - mae: 11.6715\n",
            "Epoch 2/100\n",
            "1/1 [==============================] - 0s 12ms/step - loss: 11.5390 - mae: 11.5390\n",
            "Epoch 3/100\n",
            "1/1 [==============================] - 0s 10ms/step - loss: 11.4065 - mae: 11.4065\n",
            "Epoch 4/100\n",
            "1/1 [==============================] - 0s 10ms/step - loss: 11.2740 - mae: 11.2740\n",
            "Epoch 5/100\n",
            "1/1 [==============================] - 0s 10ms/step - loss: 11.1415 - mae: 11.1415\n",
            "Epoch 6/100\n",
            "1/1 [==============================] - 0s 10ms/step - loss: 11.0090 - mae: 11.0090\n",
            "Epoch 7/100\n",
            "1/1 [==============================] - 0s 10ms/step - loss: 10.8765 - mae: 10.8765\n",
            "Epoch 8/100\n",
            "1/1 [==============================] - 0s 9ms/step - loss: 10.7440 - mae: 10.7440\n",
            "Epoch 9/100\n",
            "1/1 [==============================] - 0s 10ms/step - loss: 10.6115 - mae: 10.6115\n",
            "Epoch 10/100\n",
            "1/1 [==============================] - 0s 9ms/step - loss: 10.4790 - mae: 10.4790\n",
            "Epoch 11/100\n",
            "1/1 [==============================] - 0s 6ms/step - loss: 10.3465 - mae: 10.3465\n",
            "Epoch 12/100\n",
            "1/1 [==============================] - 0s 7ms/step - loss: 10.2140 - mae: 10.2140\n",
            "Epoch 13/100\n",
            "1/1 [==============================] - 0s 8ms/step - loss: 10.0815 - mae: 10.0815\n",
            "Epoch 14/100\n",
            "1/1 [==============================] - 0s 27ms/step - loss: 9.9490 - mae: 9.9490\n",
            "Epoch 15/100\n",
            "1/1 [==============================] - 0s 10ms/step - loss: 9.8165 - mae: 9.8165\n",
            "Epoch 16/100\n",
            "1/1 [==============================] - 0s 10ms/step - loss: 9.6840 - mae: 9.6840\n",
            "Epoch 17/100\n",
            "1/1 [==============================] - 0s 10ms/step - loss: 9.5515 - mae: 9.5515\n",
            "Epoch 18/100\n",
            "1/1 [==============================] - 0s 9ms/step - loss: 9.4190 - mae: 9.4190\n",
            "Epoch 19/100\n",
            "1/1 [==============================] - 0s 13ms/step - loss: 9.2865 - mae: 9.2865\n",
            "Epoch 20/100\n",
            "1/1 [==============================] - 0s 9ms/step - loss: 9.1540 - mae: 9.1540\n",
            "Epoch 21/100\n",
            "1/1 [==============================] - 0s 14ms/step - loss: 9.0215 - mae: 9.0215\n",
            "Epoch 22/100\n",
            "1/1 [==============================] - 0s 20ms/step - loss: 8.8890 - mae: 8.8890\n",
            "Epoch 23/100\n",
            "1/1 [==============================] - 0s 12ms/step - loss: 8.7565 - mae: 8.7565\n",
            "Epoch 24/100\n",
            "1/1 [==============================] - 0s 10ms/step - loss: 8.6240 - mae: 8.6240\n",
            "Epoch 25/100\n",
            "1/1 [==============================] - 0s 19ms/step - loss: 8.4915 - mae: 8.4915\n",
            "Epoch 26/100\n",
            "1/1 [==============================] - 0s 14ms/step - loss: 8.3590 - mae: 8.3590\n",
            "Epoch 27/100\n",
            "1/1 [==============================] - 0s 9ms/step - loss: 8.2265 - mae: 8.2265\n",
            "Epoch 28/100\n",
            "1/1 [==============================] - 0s 10ms/step - loss: 8.0940 - mae: 8.0940\n",
            "Epoch 29/100\n",
            "1/1 [==============================] - 0s 21ms/step - loss: 7.9615 - mae: 7.9615\n",
            "Epoch 30/100\n",
            "1/1 [==============================] - 0s 13ms/step - loss: 7.8290 - mae: 7.8290\n",
            "Epoch 31/100\n",
            "1/1 [==============================] - 0s 11ms/step - loss: 7.6965 - mae: 7.6965\n",
            "Epoch 32/100\n",
            "1/1 [==============================] - 0s 8ms/step - loss: 7.5640 - mae: 7.5640\n",
            "Epoch 33/100\n",
            "1/1 [==============================] - 0s 7ms/step - loss: 7.4315 - mae: 7.4315\n",
            "Epoch 34/100\n",
            "1/1 [==============================] - 0s 13ms/step - loss: 7.2990 - mae: 7.2990\n",
            "Epoch 35/100\n",
            "1/1 [==============================] - 0s 18ms/step - loss: 7.2075 - mae: 7.2075\n",
            "Epoch 36/100\n",
            "1/1 [==============================] - 0s 12ms/step - loss: 7.2019 - mae: 7.2019\n",
            "Epoch 37/100\n",
            "1/1 [==============================] - 0s 17ms/step - loss: 7.1962 - mae: 7.1962\n",
            "Epoch 38/100\n",
            "1/1 [==============================] - 0s 12ms/step - loss: 7.1906 - mae: 7.1906\n",
            "Epoch 39/100\n",
            "1/1 [==============================] - 0s 20ms/step - loss: 7.1850 - mae: 7.1850\n",
            "Epoch 40/100\n",
            "1/1 [==============================] - 0s 10ms/step - loss: 7.1794 - mae: 7.1794\n",
            "Epoch 41/100\n",
            "1/1 [==============================] - 0s 9ms/step - loss: 7.1738 - mae: 7.1738\n",
            "Epoch 42/100\n",
            "1/1 [==============================] - 0s 11ms/step - loss: 7.1681 - mae: 7.1681\n",
            "Epoch 43/100\n",
            "1/1 [==============================] - 0s 10ms/step - loss: 7.1625 - mae: 7.1625\n",
            "Epoch 44/100\n",
            "1/1 [==============================] - 0s 11ms/step - loss: 7.1569 - mae: 7.1569\n",
            "Epoch 45/100\n",
            "1/1 [==============================] - 0s 10ms/step - loss: 7.1512 - mae: 7.1512\n",
            "Epoch 46/100\n",
            "1/1 [==============================] - 0s 8ms/step - loss: 7.1456 - mae: 7.1456\n",
            "Epoch 47/100\n",
            "1/1 [==============================] - 0s 9ms/step - loss: 7.1400 - mae: 7.1400\n",
            "Epoch 48/100\n",
            "1/1 [==============================] - 0s 10ms/step - loss: 7.1344 - mae: 7.1344\n",
            "Epoch 49/100\n",
            "1/1 [==============================] - 0s 6ms/step - loss: 7.1287 - mae: 7.1287\n",
            "Epoch 50/100\n",
            "1/1 [==============================] - 0s 12ms/step - loss: 7.1231 - mae: 7.1231\n",
            "Epoch 51/100\n",
            "1/1 [==============================] - 0s 9ms/step - loss: 7.1175 - mae: 7.1175\n",
            "Epoch 52/100\n",
            "1/1 [==============================] - 0s 8ms/step - loss: 7.1119 - mae: 7.1119\n",
            "Epoch 53/100\n",
            "1/1 [==============================] - 0s 6ms/step - loss: 7.1063 - mae: 7.1063\n",
            "Epoch 54/100\n",
            "1/1 [==============================] - 0s 10ms/step - loss: 7.1006 - mae: 7.1006\n",
            "Epoch 55/100\n",
            "1/1 [==============================] - 0s 7ms/step - loss: 7.0950 - mae: 7.0950\n",
            "Epoch 56/100\n",
            "1/1 [==============================] - 0s 12ms/step - loss: 7.0894 - mae: 7.0894\n",
            "Epoch 57/100\n",
            "1/1 [==============================] - 0s 8ms/step - loss: 7.0838 - mae: 7.0838\n",
            "Epoch 58/100\n",
            "1/1 [==============================] - 0s 12ms/step - loss: 7.0781 - mae: 7.0781\n",
            "Epoch 59/100\n",
            "1/1 [==============================] - 0s 10ms/step - loss: 7.0725 - mae: 7.0725\n",
            "Epoch 60/100\n",
            "1/1 [==============================] - 0s 10ms/step - loss: 7.0669 - mae: 7.0669\n",
            "Epoch 61/100\n",
            "1/1 [==============================] - 0s 10ms/step - loss: 7.0612 - mae: 7.0612\n",
            "Epoch 62/100\n",
            "1/1 [==============================] - 0s 11ms/step - loss: 7.0556 - mae: 7.0556\n",
            "Epoch 63/100\n",
            "1/1 [==============================] - 0s 14ms/step - loss: 7.0500 - mae: 7.0500\n",
            "Epoch 64/100\n",
            "1/1 [==============================] - 0s 7ms/step - loss: 7.0444 - mae: 7.0444\n",
            "Epoch 65/100\n",
            "1/1 [==============================] - 0s 8ms/step - loss: 7.0387 - mae: 7.0387\n",
            "Epoch 66/100\n",
            "1/1 [==============================] - 0s 12ms/step - loss: 7.0331 - mae: 7.0331\n",
            "Epoch 67/100\n",
            "1/1 [==============================] - 0s 6ms/step - loss: 7.0275 - mae: 7.0275\n",
            "Epoch 68/100\n",
            "1/1 [==============================] - 0s 9ms/step - loss: 7.0219 - mae: 7.0219\n",
            "Epoch 69/100\n",
            "1/1 [==============================] - 0s 9ms/step - loss: 7.0163 - mae: 7.0163\n",
            "Epoch 70/100\n",
            "1/1 [==============================] - 0s 9ms/step - loss: 7.0106 - mae: 7.0106\n",
            "Epoch 71/100\n",
            "1/1 [==============================] - 0s 14ms/step - loss: 7.0050 - mae: 7.0050\n",
            "Epoch 72/100\n",
            "1/1 [==============================] - 0s 9ms/step - loss: 6.9994 - mae: 6.9994\n",
            "Epoch 73/100\n",
            "1/1 [==============================] - 0s 8ms/step - loss: 6.9938 - mae: 6.9938\n",
            "Epoch 74/100\n",
            "1/1 [==============================] - 0s 13ms/step - loss: 6.9881 - mae: 6.9881\n",
            "Epoch 75/100\n",
            "1/1 [==============================] - 0s 13ms/step - loss: 6.9825 - mae: 6.9825\n",
            "Epoch 76/100\n",
            "1/1 [==============================] - 0s 10ms/step - loss: 6.9769 - mae: 6.9769\n",
            "Epoch 77/100\n",
            "1/1 [==============================] - 0s 18ms/step - loss: 6.9713 - mae: 6.9713\n",
            "Epoch 78/100\n",
            "1/1 [==============================] - 0s 10ms/step - loss: 6.9656 - mae: 6.9656\n",
            "Epoch 79/100\n",
            "1/1 [==============================] - 0s 8ms/step - loss: 6.9600 - mae: 6.9600\n",
            "Epoch 80/100\n",
            "1/1 [==============================] - 0s 11ms/step - loss: 6.9544 - mae: 6.9544\n",
            "Epoch 81/100\n",
            "1/1 [==============================] - 0s 11ms/step - loss: 6.9488 - mae: 6.9488\n",
            "Epoch 82/100\n",
            "1/1 [==============================] - 0s 9ms/step - loss: 6.9431 - mae: 6.9431\n",
            "Epoch 83/100\n",
            "1/1 [==============================] - 0s 12ms/step - loss: 6.9375 - mae: 6.9375\n",
            "Epoch 84/100\n",
            "1/1 [==============================] - 0s 5ms/step - loss: 6.9319 - mae: 6.9319\n",
            "Epoch 85/100\n",
            "1/1 [==============================] - 0s 8ms/step - loss: 6.9263 - mae: 6.9263\n",
            "Epoch 86/100\n",
            "1/1 [==============================] - 0s 10ms/step - loss: 6.9206 - mae: 6.9206\n",
            "Epoch 87/100\n",
            "1/1 [==============================] - 0s 7ms/step - loss: 6.9150 - mae: 6.9150\n",
            "Epoch 88/100\n",
            "1/1 [==============================] - 0s 6ms/step - loss: 6.9094 - mae: 6.9094\n",
            "Epoch 89/100\n",
            "1/1 [==============================] - 0s 10ms/step - loss: 6.9038 - mae: 6.9038\n",
            "Epoch 90/100\n",
            "1/1 [==============================] - 0s 6ms/step - loss: 6.8981 - mae: 6.8981\n",
            "Epoch 91/100\n",
            "1/1 [==============================] - 0s 7ms/step - loss: 6.8925 - mae: 6.8925\n",
            "Epoch 92/100\n",
            "1/1 [==============================] - 0s 6ms/step - loss: 6.8869 - mae: 6.8869\n",
            "Epoch 93/100\n",
            "1/1 [==============================] - 0s 10ms/step - loss: 6.8813 - mae: 6.8813\n",
            "Epoch 94/100\n",
            "1/1 [==============================] - 0s 8ms/step - loss: 6.8756 - mae: 6.8756\n",
            "Epoch 95/100\n",
            "1/1 [==============================] - 0s 11ms/step - loss: 6.8700 - mae: 6.8700\n",
            "Epoch 96/100\n",
            "1/1 [==============================] - 0s 5ms/step - loss: 6.8644 - mae: 6.8644\n",
            "Epoch 97/100\n",
            "1/1 [==============================] - 0s 11ms/step - loss: 6.8588 - mae: 6.8588\n",
            "Epoch 98/100\n",
            "1/1 [==============================] - 0s 10ms/step - loss: 6.8531 - mae: 6.8531\n",
            "Epoch 99/100\n",
            "1/1 [==============================] - 0s 9ms/step - loss: 6.8475 - mae: 6.8475\n",
            "Epoch 100/100\n",
            "1/1 [==============================] - 0s 11ms/step - loss: 6.8419 - mae: 6.8419\n"
          ]
        },
        {
          "output_type": "execute_result",
          "data": {
            "text/plain": [
              "<keras.callbacks.History at 0x7bcb382852d0>"
            ]
          },
          "metadata": {},
          "execution_count": 5
        }
      ]
    },
    {
      "cell_type": "code",
      "source": [
        "# Make a prediction using the trained model\n",
        "prediction = model.predict([17.0])\n",
        "print(\"Prediction for input 17.0:\", prediction)"
      ],
      "metadata": {
        "colab": {
          "base_uri": "https://localhost:8080/"
        },
        "id": "b87yMNm7YZ8i",
        "outputId": "ce951aa2-c1fd-4d54-e859-4efc63c492ef"
      },
      "execution_count": 6,
      "outputs": [
        {
          "output_type": "stream",
          "name": "stdout",
          "text": [
            "1/1 [==============================] - 0s 63ms/step\n",
            "Prediction for input 17.0: [[29.753271]]\n"
          ]
        }
      ]
    },
    {
      "cell_type": "markdown",
      "source": [
        "### 5.2. Increase Model Complexity\n",
        "Increasing the complexity of the model by adding more layers and neurons can help capture more intricate patterns in the data. However, be cautious not to overcomplicate the model, as this might lead to overfitting."
      ],
      "metadata": {
        "id": "-gpp0HwnYbh9"
      }
    },
    {
      "cell_type": "code",
      "source": [
        "# Create a more complex model\n",
        "complex_model = tf.keras.Sequential([\n",
        "    tf.keras.layers.Dense(10, activation='relu', input_shape=(1,)),  # Add a hidden layer\n",
        "    tf.keras.layers.Dense(1)\n",
        "])\n",
        "\n",
        "# Compile and fit the complex model\n",
        "complex_model.compile(loss='mae', optimizer=tf.keras.optimizers.Adam(learning_rate=0.01))\n",
        "complex_model.fit(tf.expand_dims(X, axis=-1), y, epochs=100)"
      ],
      "metadata": {
        "colab": {
          "base_uri": "https://localhost:8080/"
        },
        "id": "SGwBUJbtYeM3",
        "outputId": "979ccebc-a293-4bb3-fd5d-acfd874e8b6d"
      },
      "execution_count": 7,
      "outputs": [
        {
          "output_type": "stream",
          "name": "stdout",
          "text": [
            "Epoch 1/100\n",
            "1/1 [==============================] - 0s 490ms/step - loss: 11.9472\n",
            "Epoch 2/100\n",
            "1/1 [==============================] - 0s 10ms/step - loss: 11.6512\n",
            "Epoch 3/100\n",
            "1/1 [==============================] - 0s 9ms/step - loss: 11.3536\n",
            "Epoch 4/100\n",
            "1/1 [==============================] - 0s 11ms/step - loss: 11.0544\n",
            "Epoch 5/100\n",
            "1/1 [==============================] - 0s 9ms/step - loss: 10.7531\n",
            "Epoch 6/100\n",
            "1/1 [==============================] - 0s 11ms/step - loss: 10.4496\n",
            "Epoch 7/100\n",
            "1/1 [==============================] - 0s 9ms/step - loss: 10.1436\n",
            "Epoch 8/100\n",
            "1/1 [==============================] - 0s 8ms/step - loss: 9.8351\n",
            "Epoch 9/100\n",
            "1/1 [==============================] - 0s 9ms/step - loss: 9.5240\n",
            "Epoch 10/100\n",
            "1/1 [==============================] - 0s 5ms/step - loss: 9.2102\n",
            "Epoch 11/100\n",
            "1/1 [==============================] - 0s 12ms/step - loss: 8.9342\n",
            "Epoch 12/100\n",
            "1/1 [==============================] - 0s 9ms/step - loss: 8.6848\n",
            "Epoch 13/100\n",
            "1/1 [==============================] - 0s 8ms/step - loss: 8.4328\n",
            "Epoch 14/100\n",
            "1/1 [==============================] - 0s 4ms/step - loss: 8.1782\n",
            "Epoch 15/100\n",
            "1/1 [==============================] - 0s 5ms/step - loss: 7.9213\n",
            "Epoch 16/100\n",
            "1/1 [==============================] - 0s 5ms/step - loss: 7.6624\n",
            "Epoch 17/100\n",
            "1/1 [==============================] - 0s 5ms/step - loss: 7.4006\n",
            "Epoch 18/100\n",
            "1/1 [==============================] - 0s 10ms/step - loss: 7.1359\n",
            "Epoch 19/100\n",
            "1/1 [==============================] - 0s 5ms/step - loss: 6.8694\n",
            "Epoch 20/100\n",
            "1/1 [==============================] - 0s 6ms/step - loss: 6.6015\n",
            "Epoch 21/100\n",
            "1/1 [==============================] - 0s 5ms/step - loss: 6.3363\n",
            "Epoch 22/100\n",
            "1/1 [==============================] - 0s 6ms/step - loss: 6.0699\n",
            "Epoch 23/100\n",
            "1/1 [==============================] - 0s 7ms/step - loss: 5.7994\n",
            "Epoch 24/100\n",
            "1/1 [==============================] - 0s 5ms/step - loss: 5.5245\n",
            "Epoch 25/100\n",
            "1/1 [==============================] - 0s 6ms/step - loss: 5.2454\n",
            "Epoch 26/100\n",
            "1/1 [==============================] - 0s 12ms/step - loss: 4.9630\n",
            "Epoch 27/100\n",
            "1/1 [==============================] - 0s 9ms/step - loss: 4.6764\n",
            "Epoch 28/100\n",
            "1/1 [==============================] - 0s 6ms/step - loss: 4.3852\n",
            "Epoch 29/100\n",
            "1/1 [==============================] - 0s 11ms/step - loss: 4.0886\n",
            "Epoch 30/100\n",
            "1/1 [==============================] - 0s 9ms/step - loss: 3.9068\n",
            "Epoch 31/100\n",
            "1/1 [==============================] - 0s 7ms/step - loss: 3.8091\n",
            "Epoch 32/100\n",
            "1/1 [==============================] - 0s 8ms/step - loss: 3.7147\n",
            "Epoch 33/100\n",
            "1/1 [==============================] - 0s 6ms/step - loss: 3.6836\n",
            "Epoch 34/100\n",
            "1/1 [==============================] - 0s 10ms/step - loss: 3.7283\n",
            "Epoch 35/100\n",
            "1/1 [==============================] - 0s 9ms/step - loss: 3.7664\n",
            "Epoch 36/100\n",
            "1/1 [==============================] - 0s 7ms/step - loss: 3.7996\n",
            "Epoch 37/100\n",
            "1/1 [==============================] - 0s 12ms/step - loss: 3.8273\n",
            "Epoch 38/100\n",
            "1/1 [==============================] - 0s 12ms/step - loss: 3.8492\n",
            "Epoch 39/100\n",
            "1/1 [==============================] - 0s 11ms/step - loss: 3.8648\n",
            "Epoch 40/100\n",
            "1/1 [==============================] - 0s 13ms/step - loss: 3.8759\n",
            "Epoch 41/100\n",
            "1/1 [==============================] - 0s 10ms/step - loss: 3.8830\n",
            "Epoch 42/100\n",
            "1/1 [==============================] - 0s 9ms/step - loss: 3.8863\n",
            "Epoch 43/100\n",
            "1/1 [==============================] - 0s 9ms/step - loss: 3.8862\n",
            "Epoch 44/100\n",
            "1/1 [==============================] - 0s 10ms/step - loss: 3.8830\n",
            "Epoch 45/100\n",
            "1/1 [==============================] - 0s 7ms/step - loss: 3.8769\n",
            "Epoch 46/100\n",
            "1/1 [==============================] - 0s 30ms/step - loss: 3.8682\n",
            "Epoch 47/100\n",
            "1/1 [==============================] - 0s 6ms/step - loss: 3.8566\n",
            "Epoch 48/100\n",
            "1/1 [==============================] - 0s 7ms/step - loss: 3.8426\n",
            "Epoch 49/100\n",
            "1/1 [==============================] - 0s 6ms/step - loss: 3.8266\n",
            "Epoch 50/100\n",
            "1/1 [==============================] - 0s 7ms/step - loss: 3.8086\n",
            "Epoch 51/100\n",
            "1/1 [==============================] - 0s 10ms/step - loss: 3.7885\n",
            "Epoch 52/100\n",
            "1/1 [==============================] - 0s 10ms/step - loss: 3.7662\n",
            "Epoch 53/100\n",
            "1/1 [==============================] - 0s 9ms/step - loss: 3.7421\n",
            "Epoch 54/100\n",
            "1/1 [==============================] - 0s 9ms/step - loss: 3.7165\n",
            "Epoch 55/100\n",
            "1/1 [==============================] - 0s 9ms/step - loss: 3.6895\n",
            "Epoch 56/100\n",
            "1/1 [==============================] - 0s 11ms/step - loss: 3.6624\n",
            "Epoch 57/100\n",
            "1/1 [==============================] - 0s 5ms/step - loss: 3.6344\n",
            "Epoch 58/100\n",
            "1/1 [==============================] - 0s 5ms/step - loss: 3.6056\n",
            "Epoch 59/100\n",
            "1/1 [==============================] - 0s 6ms/step - loss: 3.5759\n",
            "Epoch 60/100\n",
            "1/1 [==============================] - 0s 8ms/step - loss: 3.5441\n",
            "Epoch 61/100\n",
            "1/1 [==============================] - 0s 7ms/step - loss: 3.5184\n",
            "Epoch 62/100\n",
            "1/1 [==============================] - 0s 11ms/step - loss: 3.4860\n",
            "Epoch 63/100\n",
            "1/1 [==============================] - 0s 18ms/step - loss: 3.4478\n",
            "Epoch 64/100\n",
            "1/1 [==============================] - 0s 11ms/step - loss: 3.4146\n",
            "Epoch 65/100\n",
            "1/1 [==============================] - 0s 10ms/step - loss: 3.3774\n",
            "Epoch 66/100\n",
            "1/1 [==============================] - 0s 15ms/step - loss: 3.3410\n",
            "Epoch 67/100\n",
            "1/1 [==============================] - 0s 10ms/step - loss: 3.3102\n",
            "Epoch 68/100\n",
            "1/1 [==============================] - 0s 8ms/step - loss: 3.3242\n",
            "Epoch 69/100\n",
            "1/1 [==============================] - 0s 8ms/step - loss: 3.3286\n",
            "Epoch 70/100\n",
            "1/1 [==============================] - 0s 8ms/step - loss: 3.3236\n",
            "Epoch 71/100\n",
            "1/1 [==============================] - 0s 5ms/step - loss: 3.3098\n",
            "Epoch 72/100\n",
            "1/1 [==============================] - 0s 7ms/step - loss: 3.2879\n",
            "Epoch 73/100\n",
            "1/1 [==============================] - 0s 7ms/step - loss: 3.2585\n",
            "Epoch 74/100\n",
            "1/1 [==============================] - 0s 11ms/step - loss: 3.2251\n",
            "Epoch 75/100\n",
            "1/1 [==============================] - 0s 6ms/step - loss: 3.2131\n",
            "Epoch 76/100\n",
            "1/1 [==============================] - 0s 9ms/step - loss: 3.2106\n",
            "Epoch 77/100\n",
            "1/1 [==============================] - 0s 9ms/step - loss: 3.2039\n",
            "Epoch 78/100\n",
            "1/1 [==============================] - 0s 9ms/step - loss: 3.1934\n",
            "Epoch 79/100\n",
            "1/1 [==============================] - 0s 8ms/step - loss: 3.1792\n",
            "Epoch 80/100\n",
            "1/1 [==============================] - 0s 6ms/step - loss: 3.1616\n",
            "Epoch 81/100\n",
            "1/1 [==============================] - 0s 9ms/step - loss: 3.1404\n",
            "Epoch 82/100\n",
            "1/1 [==============================] - 0s 5ms/step - loss: 3.1158\n",
            "Epoch 83/100\n",
            "1/1 [==============================] - 0s 5ms/step - loss: 3.0884\n",
            "Epoch 84/100\n",
            "1/1 [==============================] - 0s 7ms/step - loss: 3.0585\n",
            "Epoch 85/100\n",
            "1/1 [==============================] - 0s 6ms/step - loss: 3.0460\n",
            "Epoch 86/100\n",
            "1/1 [==============================] - 0s 8ms/step - loss: 3.0365\n",
            "Epoch 87/100\n",
            "1/1 [==============================] - 0s 5ms/step - loss: 3.0157\n",
            "Epoch 88/100\n",
            "1/1 [==============================] - 0s 5ms/step - loss: 2.9845\n",
            "Epoch 89/100\n",
            "1/1 [==============================] - 0s 5ms/step - loss: 2.9532\n",
            "Epoch 90/100\n",
            "1/1 [==============================] - 0s 5ms/step - loss: 2.9464\n",
            "Epoch 91/100\n",
            "1/1 [==============================] - 0s 4ms/step - loss: 2.9186\n",
            "Epoch 92/100\n",
            "1/1 [==============================] - 0s 11ms/step - loss: 2.8956\n",
            "Epoch 93/100\n",
            "1/1 [==============================] - 0s 19ms/step - loss: 2.8693\n",
            "Epoch 94/100\n",
            "1/1 [==============================] - 0s 6ms/step - loss: 2.8424\n",
            "Epoch 95/100\n",
            "1/1 [==============================] - 0s 5ms/step - loss: 2.8188\n",
            "Epoch 96/100\n",
            "1/1 [==============================] - 0s 5ms/step - loss: 2.7948\n",
            "Epoch 97/100\n",
            "1/1 [==============================] - 0s 5ms/step - loss: 2.7708\n",
            "Epoch 98/100\n",
            "1/1 [==============================] - 0s 4ms/step - loss: 2.7430\n",
            "Epoch 99/100\n",
            "1/1 [==============================] - 0s 6ms/step - loss: 2.7105\n",
            "Epoch 100/100\n",
            "1/1 [==============================] - 0s 9ms/step - loss: 2.6830\n"
          ]
        },
        {
          "output_type": "execute_result",
          "data": {
            "text/plain": [
              "<keras.callbacks.History at 0x7bcb3822bd00>"
            ]
          },
          "metadata": {},
          "execution_count": 7
        }
      ]
    },
    {
      "cell_type": "code",
      "source": [
        "# Make a prediction using the trained model\n",
        "prediction = model.predict([17.0])\n",
        "print(\"Prediction for input 17.0:\", prediction)"
      ],
      "metadata": {
        "colab": {
          "base_uri": "https://localhost:8080/"
        },
        "id": "eHH51xmGYisg",
        "outputId": "12448d24-ee86-44e9-d73b-690f8ebb9e6f"
      },
      "execution_count": 8,
      "outputs": [
        {
          "output_type": "stream",
          "name": "stdout",
          "text": [
            "1/1 [==============================] - 0s 25ms/step\n",
            "Prediction for input 17.0: [[29.753271]]\n"
          ]
        }
      ]
    },
    {
      "cell_type": "markdown",
      "source": [
        "### 5.3. Use Different Optimizers\n",
        "The choice of optimizer can significantly impact the training process. Experiment with different optimizers, such as Adam or RMSprop, to find the one that works best for your dataset and model architecture."
      ],
      "metadata": {
        "id": "3-3kUDmaYlnC"
      }
    },
    {
      "cell_type": "code",
      "source": [
        "# Try using a different optimizer\n",
        "model.compile(loss='mae', optimizer=tf.keras.optimizers.Adam(learning_rate=0.001))\n",
        "model.fit(tf.expand_dims(X, axis=-1), y, epochs=100)\n"
      ],
      "metadata": {
        "colab": {
          "base_uri": "https://localhost:8080/"
        },
        "id": "bcgTTpF1YpS9",
        "outputId": "c5af390d-2fc2-46b1-de10-28f68b109660"
      },
      "execution_count": 9,
      "outputs": [
        {
          "output_type": "stream",
          "name": "stdout",
          "text": [
            "Epoch 1/100\n",
            "1/1 [==============================] - 0s 427ms/step - loss: 6.8363\n",
            "Epoch 2/100\n",
            "1/1 [==============================] - 0s 21ms/step - loss: 6.8355\n",
            "Epoch 3/100\n",
            "1/1 [==============================] - 0s 10ms/step - loss: 6.8348\n",
            "Epoch 4/100\n",
            "1/1 [==============================] - 0s 11ms/step - loss: 6.8340\n",
            "Epoch 5/100\n",
            "1/1 [==============================] - 0s 13ms/step - loss: 6.8333\n",
            "Epoch 6/100\n",
            "1/1 [==============================] - 0s 8ms/step - loss: 6.8325\n",
            "Epoch 7/100\n",
            "1/1 [==============================] - 0s 13ms/step - loss: 6.8317\n",
            "Epoch 8/100\n",
            "1/1 [==============================] - 0s 8ms/step - loss: 6.8310\n",
            "Epoch 9/100\n",
            "1/1 [==============================] - 0s 7ms/step - loss: 6.8303\n",
            "Epoch 10/100\n",
            "1/1 [==============================] - 0s 6ms/step - loss: 6.8295\n",
            "Epoch 11/100\n",
            "1/1 [==============================] - 0s 6ms/step - loss: 6.8288\n",
            "Epoch 12/100\n",
            "1/1 [==============================] - 0s 4ms/step - loss: 6.8280\n",
            "Epoch 13/100\n",
            "1/1 [==============================] - 0s 5ms/step - loss: 6.8273\n",
            "Epoch 14/100\n",
            "1/1 [==============================] - 0s 5ms/step - loss: 6.8265\n",
            "Epoch 15/100\n",
            "1/1 [==============================] - 0s 6ms/step - loss: 6.8258\n",
            "Epoch 16/100\n",
            "1/1 [==============================] - 0s 6ms/step - loss: 6.8250\n",
            "Epoch 17/100\n",
            "1/1 [==============================] - 0s 5ms/step - loss: 6.8243\n",
            "Epoch 18/100\n",
            "1/1 [==============================] - 0s 5ms/step - loss: 6.8235\n",
            "Epoch 19/100\n",
            "1/1 [==============================] - 0s 5ms/step - loss: 6.8228\n",
            "Epoch 20/100\n",
            "1/1 [==============================] - 0s 5ms/step - loss: 6.8220\n",
            "Epoch 21/100\n",
            "1/1 [==============================] - 0s 5ms/step - loss: 6.8213\n",
            "Epoch 22/100\n",
            "1/1 [==============================] - 0s 6ms/step - loss: 6.8205\n",
            "Epoch 23/100\n",
            "1/1 [==============================] - 0s 6ms/step - loss: 6.8198\n",
            "Epoch 24/100\n",
            "1/1 [==============================] - 0s 6ms/step - loss: 6.8190\n",
            "Epoch 25/100\n",
            "1/1 [==============================] - 0s 7ms/step - loss: 6.8183\n",
            "Epoch 26/100\n",
            "1/1 [==============================] - 0s 4ms/step - loss: 6.8175\n",
            "Epoch 27/100\n",
            "1/1 [==============================] - 0s 4ms/step - loss: 6.8168\n",
            "Epoch 28/100\n",
            "1/1 [==============================] - 0s 7ms/step - loss: 6.8160\n",
            "Epoch 29/100\n",
            "1/1 [==============================] - 0s 8ms/step - loss: 6.8153\n",
            "Epoch 30/100\n",
            "1/1 [==============================] - 0s 8ms/step - loss: 6.8145\n",
            "Epoch 31/100\n",
            "1/1 [==============================] - 0s 8ms/step - loss: 6.8138\n",
            "Epoch 32/100\n",
            "1/1 [==============================] - 0s 9ms/step - loss: 6.8130\n",
            "Epoch 33/100\n",
            "1/1 [==============================] - 0s 9ms/step - loss: 6.8123\n",
            "Epoch 34/100\n",
            "1/1 [==============================] - 0s 7ms/step - loss: 6.8115\n",
            "Epoch 35/100\n",
            "1/1 [==============================] - 0s 6ms/step - loss: 6.8108\n",
            "Epoch 36/100\n",
            "1/1 [==============================] - 0s 5ms/step - loss: 6.8100\n",
            "Epoch 37/100\n",
            "1/1 [==============================] - 0s 4ms/step - loss: 6.8093\n",
            "Epoch 38/100\n",
            "1/1 [==============================] - 0s 5ms/step - loss: 6.8085\n",
            "Epoch 39/100\n",
            "1/1 [==============================] - 0s 5ms/step - loss: 6.8078\n",
            "Epoch 40/100\n",
            "1/1 [==============================] - 0s 8ms/step - loss: 6.8070\n",
            "Epoch 41/100\n",
            "1/1 [==============================] - 0s 6ms/step - loss: 6.8063\n",
            "Epoch 42/100\n",
            "1/1 [==============================] - 0s 5ms/step - loss: 6.8055\n",
            "Epoch 43/100\n",
            "1/1 [==============================] - 0s 3ms/step - loss: 6.8048\n",
            "Epoch 44/100\n",
            "1/1 [==============================] - 0s 4ms/step - loss: 6.8040\n",
            "Epoch 45/100\n",
            "1/1 [==============================] - 0s 4ms/step - loss: 6.8033\n",
            "Epoch 46/100\n",
            "1/1 [==============================] - 0s 4ms/step - loss: 6.8025\n",
            "Epoch 47/100\n",
            "1/1 [==============================] - 0s 5ms/step - loss: 6.8018\n",
            "Epoch 48/100\n",
            "1/1 [==============================] - 0s 4ms/step - loss: 6.8010\n",
            "Epoch 49/100\n",
            "1/1 [==============================] - 0s 4ms/step - loss: 6.8003\n",
            "Epoch 50/100\n",
            "1/1 [==============================] - 0s 4ms/step - loss: 6.7995\n",
            "Epoch 51/100\n",
            "1/1 [==============================] - 0s 4ms/step - loss: 6.7988\n",
            "Epoch 52/100\n",
            "1/1 [==============================] - 0s 4ms/step - loss: 6.7980\n",
            "Epoch 53/100\n",
            "1/1 [==============================] - 0s 5ms/step - loss: 6.7973\n",
            "Epoch 54/100\n",
            "1/1 [==============================] - 0s 4ms/step - loss: 6.7965\n",
            "Epoch 55/100\n",
            "1/1 [==============================] - 0s 7ms/step - loss: 6.7958\n",
            "Epoch 56/100\n",
            "1/1 [==============================] - 0s 5ms/step - loss: 6.7950\n",
            "Epoch 57/100\n",
            "1/1 [==============================] - 0s 5ms/step - loss: 6.7943\n",
            "Epoch 58/100\n",
            "1/1 [==============================] - 0s 33ms/step - loss: 6.7935\n",
            "Epoch 59/100\n",
            "1/1 [==============================] - 0s 8ms/step - loss: 6.7928\n",
            "Epoch 60/100\n",
            "1/1 [==============================] - 0s 8ms/step - loss: 6.7920\n",
            "Epoch 61/100\n",
            "1/1 [==============================] - 0s 8ms/step - loss: 6.7913\n",
            "Epoch 62/100\n",
            "1/1 [==============================] - 0s 6ms/step - loss: 6.7905\n",
            "Epoch 63/100\n",
            "1/1 [==============================] - 0s 7ms/step - loss: 6.7898\n",
            "Epoch 64/100\n",
            "1/1 [==============================] - 0s 7ms/step - loss: 6.7890\n",
            "Epoch 65/100\n",
            "1/1 [==============================] - 0s 7ms/step - loss: 6.7883\n",
            "Epoch 66/100\n",
            "1/1 [==============================] - 0s 6ms/step - loss: 6.7875\n",
            "Epoch 67/100\n",
            "1/1 [==============================] - 0s 6ms/step - loss: 6.7868\n",
            "Epoch 68/100\n",
            "1/1 [==============================] - 0s 7ms/step - loss: 6.7860\n",
            "Epoch 69/100\n",
            "1/1 [==============================] - 0s 6ms/step - loss: 6.7853\n",
            "Epoch 70/100\n",
            "1/1 [==============================] - 0s 5ms/step - loss: 6.7845\n",
            "Epoch 71/100\n",
            "1/1 [==============================] - 0s 8ms/step - loss: 6.7838\n",
            "Epoch 72/100\n",
            "1/1 [==============================] - 0s 5ms/step - loss: 6.7830\n",
            "Epoch 73/100\n",
            "1/1 [==============================] - 0s 6ms/step - loss: 6.7823\n",
            "Epoch 74/100\n",
            "1/1 [==============================] - 0s 10ms/step - loss: 6.7815\n",
            "Epoch 75/100\n",
            "1/1 [==============================] - 0s 9ms/step - loss: 6.7808\n",
            "Epoch 76/100\n",
            "1/1 [==============================] - 0s 5ms/step - loss: 6.7800\n",
            "Epoch 77/100\n",
            "1/1 [==============================] - 0s 7ms/step - loss: 6.7793\n",
            "Epoch 78/100\n",
            "1/1 [==============================] - 0s 10ms/step - loss: 6.7785\n",
            "Epoch 79/100\n",
            "1/1 [==============================] - 0s 10ms/step - loss: 6.7778\n",
            "Epoch 80/100\n",
            "1/1 [==============================] - 0s 9ms/step - loss: 6.7770\n",
            "Epoch 81/100\n",
            "1/1 [==============================] - 0s 10ms/step - loss: 6.7763\n",
            "Epoch 82/100\n",
            "1/1 [==============================] - 0s 7ms/step - loss: 6.7755\n",
            "Epoch 83/100\n",
            "1/1 [==============================] - 0s 7ms/step - loss: 6.7748\n",
            "Epoch 84/100\n",
            "1/1 [==============================] - 0s 5ms/step - loss: 6.7740\n",
            "Epoch 85/100\n",
            "1/1 [==============================] - 0s 8ms/step - loss: 6.7733\n",
            "Epoch 86/100\n",
            "1/1 [==============================] - 0s 7ms/step - loss: 6.7725\n",
            "Epoch 87/100\n",
            "1/1 [==============================] - 0s 9ms/step - loss: 6.7718\n",
            "Epoch 88/100\n",
            "1/1 [==============================] - 0s 7ms/step - loss: 6.7710\n",
            "Epoch 89/100\n",
            "1/1 [==============================] - 0s 5ms/step - loss: 6.7703\n",
            "Epoch 90/100\n",
            "1/1 [==============================] - 0s 8ms/step - loss: 6.7695\n",
            "Epoch 91/100\n",
            "1/1 [==============================] - 0s 5ms/step - loss: 6.7688\n",
            "Epoch 92/100\n",
            "1/1 [==============================] - 0s 6ms/step - loss: 6.7680\n",
            "Epoch 93/100\n",
            "1/1 [==============================] - 0s 8ms/step - loss: 6.7673\n",
            "Epoch 94/100\n",
            "1/1 [==============================] - 0s 10ms/step - loss: 6.7665\n",
            "Epoch 95/100\n",
            "1/1 [==============================] - 0s 9ms/step - loss: 6.7658\n",
            "Epoch 96/100\n",
            "1/1 [==============================] - 0s 8ms/step - loss: 6.7650\n",
            "Epoch 97/100\n",
            "1/1 [==============================] - 0s 8ms/step - loss: 6.7643\n",
            "Epoch 98/100\n",
            "1/1 [==============================] - 0s 6ms/step - loss: 6.7635\n",
            "Epoch 99/100\n",
            "1/1 [==============================] - 0s 11ms/step - loss: 6.7628\n",
            "Epoch 100/100\n",
            "1/1 [==============================] - 0s 6ms/step - loss: 6.7620\n"
          ]
        },
        {
          "output_type": "execute_result",
          "data": {
            "text/plain": [
              "<keras.callbacks.History at 0x7bcb3817b580>"
            ]
          },
          "metadata": {},
          "execution_count": 9
        }
      ]
    },
    {
      "cell_type": "code",
      "source": [
        "# Make a prediction using the trained model\n",
        "prediction = model.predict([17.0])\n",
        "print(\"Prediction for input 17.0:\", prediction)"
      ],
      "metadata": {
        "colab": {
          "base_uri": "https://localhost:8080/"
        },
        "id": "K1eXwstYYrri",
        "outputId": "d78adb84-4a16-4599-94e0-28fef9c081f7"
      },
      "execution_count": 10,
      "outputs": [
        {
          "output_type": "stream",
          "name": "stdout",
          "text": [
            "1/1 [==============================] - 0s 56ms/step\n",
            "Prediction for input 17.0: [[29.85327]]\n"
          ]
        }
      ]
    },
    {
      "cell_type": "markdown",
      "source": [
        "## Conclusion\n",
        "Remember that deep learning is an iterative process that involves experimentation, tuning, and analysis. This notebook provides a foundation for your future explorations in more complex deep learning tasks. By experimenting with different architectures, loss functions, and optimization strategies, you can refine your models to achieve better results.\n",
        "\n",
        "Keep up the great work and happy learning!"
      ],
      "metadata": {
        "id": "MjU7zz-8Ys4T"
      }
    }
  ]
}