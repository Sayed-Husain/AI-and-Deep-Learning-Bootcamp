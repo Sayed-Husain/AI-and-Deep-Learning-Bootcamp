{
  "nbformat": 4,
  "nbformat_minor": 0,
  "metadata": {
    "colab": {
      "provenance": []
    },
    "kernelspec": {
      "name": "python3",
      "display_name": "Python 3"
    },
    "language_info": {
      "name": "python"
    }
  },
  "cells": [
    {
      "cell_type": "markdown",
      "source": [
        "# Markdown Basics\n",
        "Markdown is a simple and easy-to-use markup language that allows you to format plain text. It's widely used for creating content with minimal effort. Markdown documents can be easily converted to various formats such as HTML, PDF, and more."
      ],
      "metadata": {
        "id": "N-7bdC3Cu_JE"
      }
    },
    {
      "cell_type": "markdown",
      "source": [
        "## Headers\n",
        "You can create headers by using hash (#) symbols. The number of hash symbols determines the level of the header."
      ],
      "metadata": {
        "id": "0ZOAec_cvdZd"
      }
    },
    {
      "cell_type": "code",
      "source": [
        "# Header 1\n",
        "## Header 2\n",
        "### Header 3"
      ],
      "metadata": {
        "id": "oRAByWy2vkOg"
      },
      "execution_count": null,
      "outputs": []
    },
    {
      "cell_type": "markdown",
      "source": [
        "## Emphasis\n",
        "You can make text bold using double asterisks (**) or underscores (__), and you can make it italic using single asterisks (*) or underscores (_).\n",
        "\n",
        "\n",
        "**Bold Text**\n",
        "\n",
        "*Italic Text*"
      ],
      "metadata": {
        "id": "bicmLKaOvp5u"
      }
    },
    {
      "cell_type": "code",
      "source": [
        "**Bold Text**\n",
        "*Italic Text*"
      ],
      "metadata": {
        "id": "aP1-s6LJvs35"
      },
      "execution_count": null,
      "outputs": []
    },
    {
      "cell_type": "markdown",
      "source": [
        "## Lists\n",
        "Markdown supports both ordered and unordered lists.\n"
      ],
      "metadata": {
        "id": "__8XBGf8wHhs"
      }
    },
    {
      "cell_type": "markdown",
      "source": [
        "### Unordered List\n",
        "\n",
        "- Item 1\n",
        "- Item 2\n",
        "  - Subitem 2.1\n",
        "  - Subitem 2.2\n",
        "- Item 3\n",
        "\n"
      ],
      "metadata": {
        "id": "jTUkcFtTwJkf"
      }
    },
    {
      "cell_type": "code",
      "source": [
        "- Item 1\n",
        "- Item 2\n",
        "  - Subitem 2.1\n",
        "  - Subitem 2.2\n",
        "- Item 3"
      ],
      "metadata": {
        "id": "2Q3MD6dOwVSE"
      },
      "execution_count": null,
      "outputs": []
    },
    {
      "cell_type": "markdown",
      "source": [
        "### Ordered List\n",
        "\n",
        "1. First Item\n",
        "2. Second Item\n",
        "3. Third Item\n"
      ],
      "metadata": {
        "id": "sKiSdn7jwWmh"
      }
    },
    {
      "cell_type": "markdown",
      "source": [
        "## Links\n",
        "You can create links using square brackets ([]) for the link text and parentheses (()) for the URL.\n",
        "\n",
        "[Google](https://www.google.com)\n"
      ],
      "metadata": {
        "id": "YjpF5GIuwaEM"
      }
    },
    {
      "cell_type": "code",
      "source": [
        "[Google](https://www.google.com)"
      ],
      "metadata": {
        "id": "IQM52KJGwe4t"
      },
      "execution_count": null,
      "outputs": []
    },
    {
      "cell_type": "markdown",
      "source": [
        "## Images\n",
        "You can embed images similarly to links, but using an exclamation mark (!) at the beginning.\n",
        "\n",
        "![Alt Text](https://tinemettejespersen.files.wordpress.com/2012/03/ffftextthisisanimage.gif)\n"
      ],
      "metadata": {
        "id": "1BxAonapwfjM"
      }
    },
    {
      "cell_type": "code",
      "source": [
        "![Alt Text](LINK_TO_IMAGE)"
      ],
      "metadata": {
        "id": "-a0OecKIwpci"
      },
      "execution_count": null,
      "outputs": []
    },
    {
      "cell_type": "markdown",
      "source": [
        "## Blockquotes\n",
        "To create blockquotes, use the greater than (>) symbol.\n",
        "\n",
        "> This is a blockquote.\n"
      ],
      "metadata": {
        "id": "S3B6ryvpwtV_"
      }
    },
    {
      "cell_type": "code",
      "source": [
        "> This is a blockquote."
      ],
      "metadata": {
        "id": "e-aL9etcw2H8"
      },
      "execution_count": null,
      "outputs": []
    },
    {
      "cell_type": "markdown",
      "source": [
        "## Code\n",
        "To display inline code, use backticks (`).\n",
        "\n",
        "`print(\"Hello, Markdown!\")`\n"
      ],
      "metadata": {
        "id": "xjiSjxH2w2sR"
      }
    },
    {
      "cell_type": "code",
      "source": [
        "`print(\"Hello, Markdown!\")`"
      ],
      "metadata": {
        "id": "7jZXLN-4xNbg"
      },
      "execution_count": null,
      "outputs": []
    },
    {
      "cell_type": "markdown",
      "source": [
        "## Tables\n",
        "You can create tables using pipes (|) and hyphens (-).\n",
        "\n",
        "| Header 1 | Header 2 |\n",
        "|----------|----------|\n",
        "| Cell 1   | Cell 2   |\n",
        "| Cell 3   | Cell 4   |\n"
      ],
      "metadata": {
        "id": "cVEkO7_lxOHU"
      }
    },
    {
      "cell_type": "code",
      "source": [
        "| Header 1 | Header 2 |\n",
        "|----------|----------|\n",
        "| Cell 1   | Cell 2   |\n",
        "| Cell 3   | Cell 4   |"
      ],
      "metadata": {
        "id": "wzoESOlNxXYi"
      },
      "execution_count": null,
      "outputs": []
    },
    {
      "cell_type": "markdown",
      "source": [
        "----"
      ],
      "metadata": {
        "id": "hToPrubXxYBr"
      }
    },
    {
      "cell_type": "markdown",
      "source": [
        "This is just a basic overview of Markdown. There are many more features and syntax options available. You can experiment and enhance your documents using these formatting techniques.\n",
        "\n",
        "Remember to refer to the documentation for more detailed information: [Markdown Guide](https://www.markdownguide.org/getting-started/) at https://www.markdownguide.org/getting-started/"
      ],
      "metadata": {
        "id": "gF8IjcIrxbzI"
      }
    },
    {
      "cell_type": "code",
      "source": [],
      "metadata": {
        "id": "9ARyRs7pxhBH"
      },
      "execution_count": null,
      "outputs": []
    }
  ]
}