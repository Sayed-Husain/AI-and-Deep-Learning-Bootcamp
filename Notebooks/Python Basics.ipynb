{
  "nbformat": 4,
  "nbformat_minor": 0,
  "metadata": {
    "colab": {
      "provenance": [],
      "toc_visible": true
    },
    "kernelspec": {
      "name": "python3",
      "display_name": "Python 3"
    },
    "language_info": {
      "name": "python"
    }
  },
  "cells": [
    {
      "cell_type": "markdown",
      "source": [
        "# Introduction to Python Programming\n",
        "\n",
        "Welcome to the Introduction to Python Programming sessions! Python is a popular and versatile programming language known for its simplicity and readability. Whether you are a complete beginner or have some programming experience, Python is an excellent language to start your journey into the world of programming. In this notebook, we will cover the fundamentals of Python, from basic syntax to more advanced concepts.\n",
        "\n"
      ],
      "metadata": {
        "id": "ErlgMmrJdpGO"
      }
    },
    {
      "cell_type": "markdown",
      "source": [
        "## Table of Contents\n",
        "\n",
        "### 1. Getting Started\n",
        "  - Installing Python\n",
        "  - Using Python in Google Colab\n",
        "  - Hello, World! - Your First Python Program\n",
        "\n",
        "\n",
        "### 2. Variables and Data Types\n",
        "  - Numeric Data Types (int, float)\n",
        "  - String Data Type\n",
        "  - Boolean Data Type\n",
        "  - Type Conversion\n",
        "\n",
        "\n",
        "### 3. Operators\n",
        "\n",
        "  - Arithmetic Operators\n",
        "  - Comparison Operators\n",
        "  - Logical Operators\n",
        "  - Assignment Operators\n",
        "\n",
        "### 4. Control Flow\n",
        "  - Conditional Statements (if, else, elif)\n",
        "  - Loops (for, while)\n",
        "\n",
        "\n",
        "### 5. Functions\n",
        "\n",
        "  - Defining Functions\n",
        "  - Function Arguments\n",
        "  - Return Statement\n",
        "  - Lambda Functions\n",
        "\n",
        "### 6. Data Structures\n",
        "\n",
        "  - Lists\n",
        "  - Tuples\n",
        "  - Dictionaries\n",
        "  - Sets\n"
      ],
      "metadata": {
        "id": "pjOyFqareV02"
      }
    },
    {
      "cell_type": "markdown",
      "source": [
        "## Getting Started"
      ],
      "metadata": {
        "id": "ZkNk7UENeeq1"
      }
    },
    {
      "cell_type": "markdown",
      "source": [
        "### Installing Python\n",
        "If you don't have Python installed on your computer, you can download and install it from the official website: https://www.python.org/downloads/. Python is available for various platforms, including Windows, macOS, and Linux."
      ],
      "metadata": {
        "id": "KD6butiVfPyp"
      }
    },
    {
      "cell_type": "markdown",
      "source": [
        "### Using Python in Google Colab\n",
        "Google Colab provides an interactive coding environment in your web browser. It already has Python pre-installed, so you can start writing code immediately. To create a new Python notebook, go to https://colab.research.google.com/ and click on \"New Notebook.\""
      ],
      "metadata": {
        "id": "g0PrdZwvfmYX"
      }
    },
    {
      "cell_type": "markdown",
      "source": [
        "### Hello, World! - Your First Python Program\n",
        "Let's start with the traditional `\"Hello, World!\"` program. In Python, we can print output using the `print()` function."
      ],
      "metadata": {
        "id": "HRKu1bq5fss_"
      }
    },
    {
      "cell_type": "code",
      "source": [
        "print(\"Hello, World!\")"
      ],
      "metadata": {
        "colab": {
          "base_uri": "https://localhost:8080/"
        },
        "id": "_cnXDgVvfyJG",
        "outputId": "3cd3dfda-8241-468c-e657-bad69f93c240"
      },
      "execution_count": null,
      "outputs": [
        {
          "output_type": "stream",
          "name": "stdout",
          "text": [
            "Hello, World!\n"
          ]
        }
      ]
    },
    {
      "cell_type": "markdown",
      "source": [
        "Congratulations! You've just written your first Python program. Now, let's move on to data types."
      ],
      "metadata": {
        "id": "9Y3tMf9tf4UN"
      }
    },
    {
      "cell_type": "markdown",
      "source": [
        "## Variables and Data Types\n"
      ],
      "metadata": {
        "id": "BS5ImGWvf6iQ"
      }
    },
    {
      "cell_type": "markdown",
      "source": [
        "### Numeric Data Types (int, float)\n",
        "In Python, you can work with various numeric data types. The two most common ones are integers (int) and floating-point numbers (float)."
      ],
      "metadata": {
        "id": "AW-57BZmf_sj"
      }
    },
    {
      "cell_type": "code",
      "source": [
        "# Integer\n",
        "age = 25\n",
        "print(age)\n",
        "\n",
        "# Float\n",
        "height = 5.9\n",
        "print(height)\n"
      ],
      "metadata": {
        "colab": {
          "base_uri": "https://localhost:8080/"
        },
        "id": "kvFabm9zgEi7",
        "outputId": "6ed34da0-da49-4958-80e4-9a0b5914a524"
      },
      "execution_count": null,
      "outputs": [
        {
          "output_type": "stream",
          "name": "stdout",
          "text": [
            "25\n",
            "5.9\n"
          ]
        }
      ]
    },
    {
      "cell_type": "markdown",
      "source": [
        "### String Data Type\n",
        "Strings are sequences of characters, and they are used to represent text in Python.\n",
        "\n"
      ],
      "metadata": {
        "id": "y-qkmYQCgFWH"
      }
    },
    {
      "cell_type": "code",
      "source": [
        "message = \"Hello, Python!\"\n",
        "print(message)\n"
      ],
      "metadata": {
        "colab": {
          "base_uri": "https://localhost:8080/"
        },
        "id": "fYWiH2_CgJkN",
        "outputId": "b48d836f-119a-4885-d9c4-65260604d377"
      },
      "execution_count": null,
      "outputs": [
        {
          "output_type": "stream",
          "name": "stdout",
          "text": [
            "Hello, Python!\n"
          ]
        }
      ]
    },
    {
      "cell_type": "markdown",
      "source": [
        "### Boolean Data Type\n",
        "Boolean data type represents True or False values, which are fundamental in decision-making and conditional statements.\n",
        "\n"
      ],
      "metadata": {
        "id": "ESgZWPDTgK2O"
      }
    },
    {
      "cell_type": "code",
      "source": [
        "is_student = True\n",
        "print(is_student)\n"
      ],
      "metadata": {
        "colab": {
          "base_uri": "https://localhost:8080/"
        },
        "id": "tKodRo3agP05",
        "outputId": "c1cb6257-d828-45c7-b29e-7f60bedfb8f7"
      },
      "execution_count": null,
      "outputs": [
        {
          "output_type": "stream",
          "name": "stdout",
          "text": [
            "True\n"
          ]
        }
      ]
    },
    {
      "cell_type": "markdown",
      "source": [
        "### Type Conversion\n",
        "You can convert variables from one data type to another using type casting."
      ],
      "metadata": {
        "id": "Gz6ksnZpgRMq"
      }
    },
    {
      "cell_type": "code",
      "source": [
        "# Converting int to float\n",
        "num1 = 10\n",
        "num1_float = float(num1)\n",
        "print(num1_float)\n",
        "\n",
        "# Converting float to int\n",
        "num2 = 5.8\n",
        "num2_int = int(num2)\n",
        "print(num2_int)\n",
        "\n",
        "# Converting int/float to string\n",
        "num3 = 42\n",
        "num3_str = str(num3)\n",
        "print(num3_str)\n"
      ],
      "metadata": {
        "colab": {
          "base_uri": "https://localhost:8080/"
        },
        "id": "KKrCbpdVgU3f",
        "outputId": "c0e42e73-10e0-4d15-98c0-dd1c0fad05c3"
      },
      "execution_count": null,
      "outputs": [
        {
          "output_type": "stream",
          "name": "stdout",
          "text": [
            "10.0\n",
            "5\n",
            "42\n"
          ]
        }
      ]
    },
    {
      "cell_type": "markdown",
      "source": [
        "## Operators"
      ],
      "metadata": {
        "id": "wYiACKyEgWda"
      }
    },
    {
      "cell_type": "markdown",
      "source": [
        "### Arithmetic Operators\n",
        "Arithmetic operators are used to perform basic mathematical operations"
      ],
      "metadata": {
        "id": "lrXxv8XrgpbM"
      }
    },
    {
      "cell_type": "code",
      "source": [
        "a = 10\n",
        "b = 3\n",
        "\n",
        "addition = a + b\n",
        "print(\"Addition:\", addition)\n",
        "\n",
        "subtraction = a - b\n",
        "print(\"Subtraction:\", subtraction)\n",
        "\n",
        "multiplication = a * b\n",
        "print(\"Multiplication:\", multiplication)\n",
        "\n",
        "division = a / b\n",
        "print(\"Division:\", division)\n",
        "\n",
        "modulus = a % b\n",
        "print(\"Modulus:\", modulus)\n",
        "\n",
        "exponentiation = a ** b\n",
        "print(\"Exponentiation:\", exponentiation)\n"
      ],
      "metadata": {
        "colab": {
          "base_uri": "https://localhost:8080/"
        },
        "id": "W6cnui24gtLL",
        "outputId": "9bfa8967-3627-4c3f-f5f3-e600b2f6c8bb"
      },
      "execution_count": null,
      "outputs": [
        {
          "output_type": "stream",
          "name": "stdout",
          "text": [
            "Addition: 13\n",
            "Subtraction: 7\n",
            "Multiplication: 30\n",
            "Division: 3.3333333333333335\n",
            "Modulus: 1\n",
            "Exponentiation: 1000\n"
          ]
        }
      ]
    },
    {
      "cell_type": "markdown",
      "source": [
        "### Comparison Operators\n",
        "Comparison operators are used to compare values and return boolean results."
      ],
      "metadata": {
        "id": "g9TDQkzbgwM6"
      }
    },
    {
      "cell_type": "code",
      "source": [
        "x = 5\n",
        "y = 8\n",
        "\n",
        "print(\"Is x equal to y?\", x == y)\n",
        "print(\"Is x not equal to y?\", x != y)\n",
        "print(\"Is x greater than y?\", x > y)\n",
        "print(\"Is x less than y?\", x < y)\n",
        "print(\"Is x greater than or equal to y?\", x >= y)\n",
        "print(\"Is x less than or equal to y?\", x <= y)\n"
      ],
      "metadata": {
        "colab": {
          "base_uri": "https://localhost:8080/"
        },
        "id": "EAw4set3gzwe",
        "outputId": "a377c6e2-dc54-4e67-b63e-9870271d1570"
      },
      "execution_count": null,
      "outputs": [
        {
          "output_type": "stream",
          "name": "stdout",
          "text": [
            "Is x equal to y? False\n",
            "Is x not equal to y? True\n",
            "Is x greater than y? False\n",
            "Is x less than y? True\n",
            "Is x greater than or equal to y? False\n",
            "Is x less than or equal to y? True\n"
          ]
        }
      ]
    },
    {
      "cell_type": "markdown",
      "source": [
        "### Logical Operators\n",
        "Logical operators are used to combine multiple conditions."
      ],
      "metadata": {
        "id": "Ffw2EMhRg1Lt"
      }
    },
    {
      "cell_type": "code",
      "source": [
        "is_weekday = True\n",
        "is_sunny = False\n",
        "\n",
        "print(\"Is it a sunny weekday?\", is_weekday and is_sunny)\n",
        "print(\"Is it either a sunny day or a weekday?\", is_weekday or is_sunny)\n",
        "print(\"Is it not a sunny day?\", not is_sunny)"
      ],
      "metadata": {
        "colab": {
          "base_uri": "https://localhost:8080/"
        },
        "id": "3Cu60H0Eg5WX",
        "outputId": "9f9a3adc-d0d7-4268-f18a-dfa7efe991ab"
      },
      "execution_count": null,
      "outputs": [
        {
          "output_type": "stream",
          "name": "stdout",
          "text": [
            "Is it a sunny weekday? False\n",
            "Is it either a sunny day or a weekday? True\n",
            "Is it not a sunny day? True\n"
          ]
        }
      ]
    },
    {
      "cell_type": "markdown",
      "source": [
        "### Assignment Operators\n",
        "Assignment operators are used to assign values to variables."
      ],
      "metadata": {
        "id": "KOsfd8egg_oP"
      }
    },
    {
      "cell_type": "code",
      "source": [
        "x = 10\n",
        "print(\"x =\", x)\n",
        "\n",
        "x += 5\n",
        "print(\"x after adding 5 =\", x)\n",
        "\n",
        "x -= 2\n",
        "print(\"x after subtracting 2 =\", x)\n",
        "\n",
        "x *= 3\n",
        "print(\"x after multiplying by 3 =\", x)\n",
        "\n",
        "x /= 2\n",
        "print(\"x after dividing by 2 =\", x)\n"
      ],
      "metadata": {
        "colab": {
          "base_uri": "https://localhost:8080/"
        },
        "id": "oOQZE2WVhL2i",
        "outputId": "f1d10947-a6b3-49d2-eed4-b0f41712ec82"
      },
      "execution_count": null,
      "outputs": [
        {
          "output_type": "stream",
          "name": "stdout",
          "text": [
            "x = 10\n",
            "x after adding 5 = 15\n",
            "x after subtracting 2 = 13\n",
            "x after multiplying by 3 = 39\n",
            "x after dividing by 2 = 19.5\n"
          ]
        }
      ]
    },
    {
      "cell_type": "markdown",
      "source": [
        "### Practical Example\n",
        "Check if the given number is even or odd\n"
      ],
      "metadata": {
        "id": "rU-t2sTchNts"
      }
    },
    {
      "cell_type": "code",
      "source": [
        "# Check if a number is even or odd\n",
        "num = 7\n",
        "if num % 2 == 0:\n",
        "    print(num, \"is even.\")\n",
        "else:\n",
        "    print(num, \"is odd.\")"
      ],
      "metadata": {
        "colab": {
          "base_uri": "https://localhost:8080/"
        },
        "id": "Zexst0wvhaHE",
        "outputId": "0a8239c6-3ae1-4568-9d12-f6eb57cb147b"
      },
      "execution_count": null,
      "outputs": [
        {
          "output_type": "stream",
          "name": "stdout",
          "text": [
            "7 is odd.\n"
          ]
        }
      ]
    },
    {
      "cell_type": "markdown",
      "source": [
        "## Control Flow\n"
      ],
      "metadata": {
        "id": "aR7dB3a2hbsJ"
      }
    },
    {
      "cell_type": "markdown",
      "source": [
        "### Conditional Statements (if, else, elif)\n",
        "Conditional statements are used to make decisions based on certain conditions."
      ],
      "metadata": {
        "id": "xLanwqQihf1J"
      }
    },
    {
      "cell_type": "code",
      "source": [
        "num = 10\n",
        "\n",
        "if num > 0:\n",
        "    print(\"Positive\")\n",
        "elif num < 0:\n",
        "    print(\"Negative\")\n",
        "else:\n",
        "    print(\"Zero\")\n"
      ],
      "metadata": {
        "colab": {
          "base_uri": "https://localhost:8080/"
        },
        "id": "yRSCdxt7hjdG",
        "outputId": "e6f30a5a-cd92-42f1-c4bc-45b64e4a550a"
      },
      "execution_count": null,
      "outputs": [
        {
          "output_type": "stream",
          "name": "stdout",
          "text": [
            "Positive\n"
          ]
        }
      ]
    },
    {
      "cell_type": "markdown",
      "source": [
        "### Loops (for, while)\n",
        "Loops are used to repeatedly execute a block of code."
      ],
      "metadata": {
        "id": "uWbru1JUhll5"
      }
    },
    {
      "cell_type": "code",
      "source": [
        "# For loop\n",
        "fruits = [\"apple\", \"banana\", \"cherry\"]\n",
        "for fruit in fruits:\n",
        "    print(fruit)\n",
        "\n",
        "# While loop\n",
        "count = 1\n",
        "while count <= 5:\n",
        "    print(\"Count:\", count)\n",
        "    count += 1\n"
      ],
      "metadata": {
        "colab": {
          "base_uri": "https://localhost:8080/"
        },
        "id": "-zqTuRJxhoGi",
        "outputId": "ac22a565-cd95-4c59-b99a-7b099df1a825"
      },
      "execution_count": null,
      "outputs": [
        {
          "output_type": "stream",
          "name": "stdout",
          "text": [
            "apple\n",
            "banana\n",
            "cherry\n",
            "Count: 1\n",
            "Count: 2\n",
            "Count: 3\n",
            "Count: 4\n",
            "Count: 5\n"
          ]
        }
      ]
    },
    {
      "cell_type": "markdown",
      "source": [
        "### Practical Example\n",
        "Find the sum of numbers from 1 to 10 using a loop\n",
        "sum = 0"
      ],
      "metadata": {
        "id": "2rmRl4ZghqjQ"
      }
    },
    {
      "cell_type": "code",
      "source": [
        "# Find the sum of numbers from 1 to 10 using a loop\n",
        "sum = 0\n",
        "for i in range(1, 11):\n",
        "    sum += i\n",
        "print(\"Sum of numbers from 1 to 10:\", sum)\n"
      ],
      "metadata": {
        "colab": {
          "base_uri": "https://localhost:8080/"
        },
        "id": "gdZBBSf0hud1",
        "outputId": "2bc1a144-4fc7-4aa4-8eac-37812409f558"
      },
      "execution_count": null,
      "outputs": [
        {
          "output_type": "stream",
          "name": "stdout",
          "text": [
            "Sum of numbers from 1 to 10: 55\n"
          ]
        }
      ]
    },
    {
      "cell_type": "markdown",
      "source": [
        "## Functions"
      ],
      "metadata": {
        "id": "UnJC-syPh12_"
      }
    },
    {
      "cell_type": "markdown",
      "source": [
        "### Defining Functions\n",
        "Functions are blocks of reusable code that perform a specific task."
      ],
      "metadata": {
        "id": "SVyI2HBXh3dE"
      }
    },
    {
      "cell_type": "code",
      "source": [
        "def greet():\n",
        "    print(\"Hello, there!\")\n",
        "\n",
        "# Calling the function\n",
        "greet()\n"
      ],
      "metadata": {
        "colab": {
          "base_uri": "https://localhost:8080/"
        },
        "id": "gkB0N0HLh5f-",
        "outputId": "6b173f3a-f6d2-4b26-a133-eb9cc1ba1779"
      },
      "execution_count": null,
      "outputs": [
        {
          "output_type": "stream",
          "name": "stdout",
          "text": [
            "Hello, there!\n"
          ]
        }
      ]
    },
    {
      "cell_type": "markdown",
      "source": [
        "### Function Arguments\n",
        "Functions can accept input arguments to make them more flexible.\n",
        "\n"
      ],
      "metadata": {
        "id": "ZcKwfeJAh6vA"
      }
    },
    {
      "cell_type": "code",
      "source": [
        "def greet(name):\n",
        "    print(\"Hello,\", name)\n",
        "\n",
        "# Calling the function with an argument\n",
        "greet(\"Alice\")\n"
      ],
      "metadata": {
        "colab": {
          "base_uri": "https://localhost:8080/"
        },
        "id": "zX3WWQJJh-eC",
        "outputId": "903a0492-3f0c-406b-870a-a3d394c6e607"
      },
      "execution_count": null,
      "outputs": [
        {
          "output_type": "stream",
          "name": "stdout",
          "text": [
            "Hello, Alice\n"
          ]
        }
      ]
    },
    {
      "cell_type": "markdown",
      "source": [
        "### Return Statement\n",
        "Functions can also return values as a result of their execution."
      ],
      "metadata": {
        "id": "KD9dW5V2iAVN"
      }
    },
    {
      "cell_type": "code",
      "source": [
        "def add(a, b):\n",
        "    return a + b\n",
        "\n",
        "result = add(3, 5)\n",
        "print(\"Result of addition:\", result)\n"
      ],
      "metadata": {
        "colab": {
          "base_uri": "https://localhost:8080/"
        },
        "id": "DIVBgC9AiDK-",
        "outputId": "fc47c32c-3c56-434d-a51a-98af45170a4d"
      },
      "execution_count": null,
      "outputs": [
        {
          "output_type": "stream",
          "name": "stdout",
          "text": [
            "Result of addition: 8\n"
          ]
        }
      ]
    },
    {
      "cell_type": "markdown",
      "source": [
        "### Practical Example\n",
        "Convert Celsius to Fahrenheit using a function"
      ],
      "metadata": {
        "id": "KwjW3MpOiEV6"
      }
    },
    {
      "cell_type": "code",
      "source": [
        "# Convert Celsius to Fahrenheit using a function\n",
        "def celsius_to_fahrenheit(celsius):\n",
        "    return (celsius * 9/5) + 32\n",
        "\n",
        "temperature_celsius = 25\n",
        "temperature_fahrenheit = celsius_to_fahrenheit(temperature_celsius)\n",
        "print(f\"{temperature_celsius}°C is equal to {temperature_fahrenheit}°F.\")\n"
      ],
      "metadata": {
        "colab": {
          "base_uri": "https://localhost:8080/"
        },
        "id": "DFdfqAFfiKaP",
        "outputId": "07defd64-23ae-4c8c-e887-e417aaccdd79"
      },
      "execution_count": null,
      "outputs": [
        {
          "output_type": "stream",
          "name": "stdout",
          "text": [
            "25°C is equal to 77.0°F.\n"
          ]
        }
      ]
    },
    {
      "cell_type": "markdown",
      "source": [
        "## Data Structures\n"
      ],
      "metadata": {
        "id": "H27eChQmiLqu"
      }
    },
    {
      "cell_type": "markdown",
      "source": [
        "### Lists\n",
        "Lists are ordered collections that can hold various data types."
      ],
      "metadata": {
        "id": "PQ_Cnfm6iR6K"
      }
    },
    {
      "cell_type": "code",
      "source": [
        "fruits = [\"apple\", \"banana\", \"cherry\"]\n",
        "print(fruits)\n",
        "\n",
        "# Accessing elements\n",
        "print(\"First fruit:\", fruits[0])\n",
        "print(\"Last fruit:\", fruits[-1])\n",
        "\n",
        "# Adding elements\n",
        "fruits.append(\"orange\")\n",
        "print(\"Fruits after adding orange:\", fruits)\n",
        "\n",
        "# Removing elements\n",
        "fruits.remove(\"banana\")\n",
        "print(\"Fruits after removing banana:\", fruits)\n"
      ],
      "metadata": {
        "colab": {
          "base_uri": "https://localhost:8080/"
        },
        "id": "En2VnIg6iVD1",
        "outputId": "e38721f6-866d-49f0-b35d-30ce4b9b9d22"
      },
      "execution_count": null,
      "outputs": [
        {
          "output_type": "stream",
          "name": "stdout",
          "text": [
            "['apple', 'banana', 'cherry']\n",
            "First fruit: apple\n",
            "Last fruit: cherry\n",
            "Fruits after adding orange: ['apple', 'banana', 'cherry', 'orange']\n",
            "Fruits after removing banana: ['apple', 'cherry', 'orange']\n"
          ]
        }
      ]
    },
    {
      "cell_type": "markdown",
      "source": [
        "### Tuples\n",
        "Tuples are similar to lists but are immutable (cannot be modified after creation)."
      ],
      "metadata": {
        "id": "8ozJYcBXibrw"
      }
    },
    {
      "cell_type": "code",
      "source": [
        "person = (\"John\", 30, \"New York\")\n",
        "print(person)\n",
        "\n",
        "# Accessing elements\n",
        "print(\"Name:\", person[0])\n",
        "print(\"Age:\", person[1])\n",
        "print(\"City:\", person[2])\n"
      ],
      "metadata": {
        "colab": {
          "base_uri": "https://localhost:8080/"
        },
        "id": "7mmo3-aziiG_",
        "outputId": "e0829bd5-0c74-442d-c320-f74d15be851a"
      },
      "execution_count": null,
      "outputs": [
        {
          "output_type": "stream",
          "name": "stdout",
          "text": [
            "('John', 30, 'New York')\n",
            "Name: John\n",
            "Age: 30\n",
            "City: New York\n"
          ]
        }
      ]
    },
    {
      "cell_type": "markdown",
      "source": [
        "### Dictionaries\n",
        "Dictionaries store data as key-value pairs."
      ],
      "metadata": {
        "id": "KUF-XOYaijjX"
      }
    },
    {
      "cell_type": "code",
      "source": [
        "student = {\n",
        "    \"name\": \"Alice\",\n",
        "    \"age\": 22,\n",
        "    \"major\": \"Computer Science\"\n",
        "}\n",
        "print(student)\n",
        "\n",
        "# Accessing values\n",
        "print(\"Name:\", student[\"name\"])\n",
        "print(\"Age:\", student[\"age\"])\n",
        "\n",
        "# Adding new key-value pairs\n",
        "student[\"university\"] = \"XYZ University\"\n",
        "print(\"Student with university:\", student)\n"
      ],
      "metadata": {
        "colab": {
          "base_uri": "https://localhost:8080/"
        },
        "id": "q-iGjCmgimDl",
        "outputId": "08efb8ad-b0a5-4904-a013-19d07abb91a3"
      },
      "execution_count": null,
      "outputs": [
        {
          "output_type": "stream",
          "name": "stdout",
          "text": [
            "{'name': 'Alice', 'age': 22, 'major': 'Computer Science'}\n",
            "Name: Alice\n",
            "Age: 22\n",
            "Student with university: {'name': 'Alice', 'age': 22, 'major': 'Computer Science', 'university': 'XYZ University'}\n"
          ]
        }
      ]
    },
    {
      "cell_type": "markdown",
      "source": [
        "### Sets\n",
        "Sets are collections of unique elements."
      ],
      "metadata": {
        "id": "ctEp9sshiuMy"
      }
    },
    {
      "cell_type": "code",
      "source": [
        "fruits = {\"apple\", \"banana\", \"cherry\", \"banana\"}\n",
        "print(fruits)  # Note that \"banana\" appears only once.\n",
        "\n",
        "# Adding elements\n",
        "fruits.add(\"orange\")\n",
        "print(\"Fruits after adding orange:\", fruits)\n",
        "\n",
        "# Removing elements\n",
        "fruits.remove(\"banana\")\n",
        "print(\"Fruits after removing banana:\", fruits)\n"
      ],
      "metadata": {
        "colab": {
          "base_uri": "https://localhost:8080/"
        },
        "id": "xQFKaWTIixFM",
        "outputId": "c3258829-b869-4411-a457-214ce9298826"
      },
      "execution_count": null,
      "outputs": [
        {
          "output_type": "stream",
          "name": "stdout",
          "text": [
            "{'banana', 'cherry', 'apple'}\n",
            "Fruits after adding orange: {'banana', 'cherry', 'orange', 'apple'}\n",
            "Fruits after removing banana: {'cherry', 'orange', 'apple'}\n"
          ]
        }
      ]
    },
    {
      "cell_type": "markdown",
      "source": [
        "## Importing Libraries\n",
        "\n",
        "\n",
        "In programming, libraries are collections of pre-written functions and tools that can be used to extend the capabilities of a programming language. Python provides a wide range of libraries that cover various functionalities, from working with numbers and data to web development and machine learning. Instead of reinventing the wheel, you can import these libraries into your code and leverage the existing codebase.\n",
        "\n"
      ],
      "metadata": {
        "id": "AI_Z2pu4dY6z"
      }
    },
    {
      "cell_type": "markdown",
      "source": [
        "### How to Import Libraries\n",
        "In Python, you can import a library using the `import` keyword, followed by the library's name. For example:"
      ],
      "metadata": {
        "id": "yXgGSa3GdaXF"
      }
    },
    {
      "cell_type": "code",
      "source": [
        "import random"
      ],
      "metadata": {
        "id": "jGQeBkHKdxLP"
      },
      "execution_count": 1,
      "outputs": []
    },
    {
      "cell_type": "markdown",
      "source": [
        "After importing the library, you can use its functions and classes by prefixing them with the library name, separated by a dot. For example:\n",
        "\n"
      ],
      "metadata": {
        "id": "w8UdD7lHd23r"
      }
    },
    {
      "cell_type": "code",
      "source": [
        "random_number = random.randint(1, 100)\n",
        "print(random_number)"
      ],
      "metadata": {
        "colab": {
          "base_uri": "https://localhost:8080/"
        },
        "id": "vGk5fYIcd35u",
        "outputId": "7520fa1d-022c-4852-d9fb-7b29d446950e"
      },
      "execution_count": 2,
      "outputs": [
        {
          "output_type": "stream",
          "name": "stdout",
          "text": [
            "10\n"
          ]
        }
      ]
    },
    {
      "cell_type": "markdown",
      "source": [
        "You can also import specific functions or classes from a library using the `from` keyword. For example:\n",
        "\n"
      ],
      "metadata": {
        "id": "37hhXIc-d9WB"
      }
    },
    {
      "cell_type": "code",
      "source": [
        "from random import randint\n",
        "random_number = randint(1, 100)\n",
        "print(random_number)"
      ],
      "metadata": {
        "colab": {
          "base_uri": "https://localhost:8080/"
        },
        "id": "Hr18NGMGeBMz",
        "outputId": "f0935c09-e876-4cc2-9d70-afa4aaa58098"
      },
      "execution_count": 3,
      "outputs": [
        {
          "output_type": "stream",
          "name": "stdout",
          "text": [
            "80\n"
          ]
        }
      ]
    },
    {
      "cell_type": "markdown",
      "source": [
        "This way, you can directly use the randint function without specifying the library name.\n",
        "\n"
      ],
      "metadata": {
        "id": "MPoc2Y48eF66"
      }
    },
    {
      "cell_type": "markdown",
      "source": [
        "### Why is Importing Important\n",
        "Importing libraries is crucial because it allows you to leverage the power of existing code and functionality. Some key reasons why importing is important:\n",
        "\n",
        "1. Code Reusability: Libraries encapsulate useful functionality, saving you time and effort in implementing common tasks. Reusing code from libraries reduces duplication and improves maintainability.\n",
        "\n",
        "2. Performance: Libraries are usually written in optimized ways, which can lead to better performance compared to custom implementations.\n",
        "\n",
        "3. Community Contributions: Python has a vibrant community that develops and maintains numerous libraries. By using libraries, you benefit from the collective knowledge and expertise of the Python community.\n",
        "\n",
        "4. Focus on High-Level Logic: By using libraries, you can focus on high-level logic and problem-solving rather than getting bogged down with low-level details.\n",
        "\n",
        "5. Extensibility: Libraries provide additional features and functionalities that may not be available in the standard Python language.\n",
        "\n",
        "6. Learning from Others: By examining the code in well-known libraries, you can learn best practices, coding conventions, and techniques from experienced developers."
      ],
      "metadata": {
        "id": "siLhTurVeILF"
      }
    },
    {
      "cell_type": "markdown",
      "source": [
        "### Practical Example: Guess the Number Game\n",
        "In the example above, we import the random library to create a simple \"Guess the Number\" game. By using the random.randint() function from the random library, we generate a random number between 1 and 100 that the user needs to guess. The user keeps guessing until they get the correct number, and the program provides feedback on whether the guess is higher or lower than the secret number."
      ],
      "metadata": {
        "id": "qQVIFN-TeT0A"
      }
    },
    {
      "cell_type": "code",
      "source": [
        "import random\n",
        "\n",
        "# Generate a random number between 1 and 100\n",
        "secret_number = random.randint(1, 100)\n",
        "print(\"Guess the number between 1 and 100.\")\n",
        "\n",
        "# Initialize variables\n",
        "guess = 0\n",
        "attempts = 0\n",
        "\n",
        "# Start the guessing loop\n",
        "while guess != secret_number:\n",
        "    guess = int(input(\"Enter your guess: \"))\n",
        "    attempts += 1\n",
        "\n",
        "    if guess < secret_number:\n",
        "        print(\"Higher!\")\n",
        "    elif guess > secret_number:\n",
        "        print(\"Lower!\")\n",
        "    else:\n",
        "        print(f\"Congratulations! You guessed the correct number {secret_number} in {attempts} attempts.\")\n"
      ],
      "metadata": {
        "colab": {
          "base_uri": "https://localhost:8080/"
        },
        "id": "IeKFDtsYeXn1",
        "outputId": "1be8605b-d2fe-4e8f-dc37-3854949d15ac"
      },
      "execution_count": 4,
      "outputs": [
        {
          "output_type": "stream",
          "name": "stdout",
          "text": [
            "Guess the number between 1 and 100.\n",
            "Enter your guess: 5\n",
            "Higher!\n",
            "Enter your guess: 50\n",
            "Lower!\n",
            "Enter your guess: 35\n",
            "Lower!\n",
            "Enter your guess: 28\n",
            "Lower!\n",
            "Enter your guess: 25\n",
            "Lower!\n",
            "Enter your guess: 20\n",
            "Lower!\n",
            "Enter your guess: 15\n",
            "Higher!\n",
            "Enter your guess: 18\n",
            "Congratulations! You guessed the correct number 18 in 8 attempts.\n"
          ]
        }
      ]
    },
    {
      "cell_type": "markdown",
      "source": [
        "In this example, the random library is essential for generating a random number, which is the core functionality of the game. Without the random library, we would have to implement our own random number generation algorithm, which could be time-consuming and error-prone.\n",
        "\n"
      ],
      "metadata": {
        "id": "adaLQ3WPejpf"
      }
    },
    {
      "cell_type": "markdown",
      "source": [
        "____"
      ],
      "metadata": {
        "id": "PT0uuFy1ekuL"
      }
    },
    {
      "cell_type": "markdown",
      "source": [
        "This notebook covers the essential concepts of Python programming, including importing libraries and using them in practical examples. It should provide you with a solid foundation to start writing Python code and exploring more advanced topics. Feel free to experiment with the code examples and modify them to deepen your understanding of Python.\n",
        "\n",
        "\n",
        "**Happy coding!**"
      ],
      "metadata": {
        "id": "TfUQmT1Liztm"
      }
    },
    {
      "cell_type": "code",
      "source": [],
      "metadata": {
        "id": "4Lr_r23rdPBg"
      },
      "execution_count": null,
      "outputs": []
    }
  ]
}