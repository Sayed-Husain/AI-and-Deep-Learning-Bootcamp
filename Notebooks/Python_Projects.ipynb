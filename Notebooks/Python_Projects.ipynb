{
  "nbformat": 4,
  "nbformat_minor": 0,
  "metadata": {
    "colab": {
      "provenance": []
    },
    "kernelspec": {
      "name": "python3",
      "display_name": "Python 3"
    },
    "language_info": {
      "name": "python"
    }
  },
  "cells": [
    {
      "cell_type": "markdown",
      "source": [
        "# Python Projects\n",
        "\n",
        "> Basics python projects to illustrates the functionalities of the language"
      ],
      "metadata": {
        "id": "KKjQULrevJ98"
      }
    },
    {
      "cell_type": "code",
      "source": [
        "# Get the age of user\n",
        "age = input(\"Please enter your age: \")\n",
        "age = int(age)\n",
        "\n",
        "if age >= 18:\n",
        "  user_response = input(\"Do you have license (yes/no): \")\n",
        "  user_response= user_response.lower()\n",
        "\n",
        "  while user_response != \"yes\" and user_response != \"no\":\n",
        "    print(\"please enter either yes or no\")\n",
        "    user_response = input(\"Do you have license (yes/no): \")\n",
        "    user_response = user_response.lower()\n",
        "\n",
        "\n",
        "  if user_response == \"yes\":\n",
        "      has_license = True\n",
        "\n",
        "  elif user_response == \"no\":\n",
        "      has_license = False\n",
        "\n",
        "  if (has_license):\n",
        "    print(\"You are allowed to drive\")\n",
        "\n",
        "  else:\n",
        "    print(\"You are not allowed to drive\")\n",
        "\n",
        "\n",
        "else:\n",
        "  print(\"You are not allowed to drive\")"
      ],
      "metadata": {
        "colab": {
          "base_uri": "https://localhost:8080/"
        },
        "id": "SHIW3e9avSOe",
        "outputId": "23245e3f-2ed0-4440-94e8-693eb00aec0b"
      },
      "execution_count": 4,
      "outputs": [
        {
          "output_type": "stream",
          "name": "stdout",
          "text": [
            "Please enter your age: 20\n",
            "Do you have license (yes/no): i do\n",
            "please enter either yes or no\n",
            "Do you have license (yes/no): YeS\n",
            "You are allowed to drive\n"
          ]
        }
      ]
    },
    {
      "cell_type": "code",
      "source": [
        "# jokes project\n",
        "!pip install pyjokes\n",
        "import pyjokes\n",
        "\n",
        "# Get a random joke\n",
        "random_joke = pyjokes.get_joke()\n",
        "print(\"Random Joke:\", random_joke)\n"
      ],
      "metadata": {
        "colab": {
          "base_uri": "https://localhost:8080/"
        },
        "id": "EH6flFrWvUFC",
        "outputId": "6f812990-ffef-416f-fd70-eeaf53096ecc"
      },
      "execution_count": 7,
      "outputs": [
        {
          "output_type": "stream",
          "name": "stdout",
          "text": [
            "Requirement already satisfied: pyjokes in /usr/local/lib/python3.10/dist-packages (0.6.0)\n",
            "Random Joke: Waiter: Would you like coffee or tea? Programmer: Yes.\n"
          ]
        }
      ]
    },
    {
      "cell_type": "code",
      "source": [
        "# password generator\n",
        "import random\n",
        "\n",
        "password_length = int(input(\"Enter the desired password length: \"))\n",
        "\n",
        "# Define character sets\n",
        "lowercase_letters = 'abcdefghijklmnopqrstuvwxyz'\n",
        "uppercase_letters = 'ABCDEFGHIJKLMNOPQRSTUVWXYZ'\n",
        "digits = '0123456789'\n",
        "special_characters = '!@#$%^&*()_+-=[]{}|;:,.<>?'\n",
        "\n",
        "# Combine character sets\n",
        "all_characters = lowercase_letters + uppercase_letters + digits + special_characters\n",
        "\n",
        "# Generate the password\n",
        "password = ''\n",
        "for letter in range(password_length):\n",
        "    password += random.choice(all_characters)\n",
        "\n",
        "# Print the generated password\n",
        "print(\"Generated Password:\", password)\n"
      ],
      "metadata": {
        "colab": {
          "base_uri": "https://localhost:8080/"
        },
        "id": "RDHQ7vGhvWDC",
        "outputId": "f3c0a346-4eac-41ff-a00f-e2c069e86542"
      },
      "execution_count": 10,
      "outputs": [
        {
          "output_type": "stream",
          "name": "stdout",
          "text": [
            "Enter the desired password length: 20\n",
            "Generated Password: 4L+IPb(QSSCo}<sm@0qZ\n"
          ]
        }
      ]
    },
    {
      "cell_type": "code",
      "source": [
        "# guess game\n",
        "import random\n",
        "\n",
        "# Generate a random number between 1 and 100\n",
        "secret_number = random.randint(0, 1000)\n",
        "\n",
        "# Initialize variables\n",
        "guess = 0\n",
        "attempts = 0\n",
        "\n",
        "# Start the guessing loop\n",
        "while guess != secret_number:\n",
        "  guess = int(input(\"enter your guess: \"))\n",
        "\n",
        "  attempts = attempts + 1\n",
        "\n",
        "  if (guess > secret_number):\n",
        "    print(\"Secret Number is lower\")\n",
        "\n",
        "  elif (guess < secret_number):\n",
        "    print(\"Secret Number is higher\")\n",
        "\n",
        "\n",
        "print(\"You got it\")\n",
        "print(\"Your attempts \" + str(attempts))\n",
        "print(\"Secret number is \" + str(secret_number))"
      ],
      "metadata": {
        "colab": {
          "base_uri": "https://localhost:8080/"
        },
        "id": "LD9XP-QovYWA",
        "outputId": "5a085e97-f735-4d5c-f458-50f35dda7dab"
      },
      "execution_count": 12,
      "outputs": [
        {
          "output_type": "stream",
          "name": "stdout",
          "text": [
            "enter your guess: 800\n",
            "Secret Number is lower\n",
            "enter your guess: 400\n",
            "Secret Number is lower\n",
            "enter your guess: 200\n",
            "Secret Number is higher\n",
            "enter your guess: 300\n",
            "Secret Number is lower\n",
            "enter your guess: 250\n",
            "Secret Number is lower\n",
            "enter your guess: 220\n",
            "Secret Number is higher\n",
            "enter your guess: 225\n",
            "Secret Number is higher\n",
            "enter your guess: 230\n",
            "Secret Number is higher\n",
            "enter your guess: 235\n",
            "Secret Number is higher\n",
            "enter your guess: 239\n",
            "Secret Number is higher\n",
            "enter your guess: 245\n",
            "Secret Number is lower\n",
            "enter your guess: 242\n",
            "Secret Number is higher\n",
            "enter your guess: 243\n",
            "You got it\n",
            "Your attempts 13\n",
            "Secret number is 243\n"
          ]
        }
      ]
    },
    {
      "cell_type": "code",
      "source": [],
      "metadata": {
        "id": "zVEliw4Jv2Cg"
      },
      "execution_count": null,
      "outputs": []
    }
  ]
}