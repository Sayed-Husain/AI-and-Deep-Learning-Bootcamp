{
  "nbformat": 4,
  "nbformat_minor": 0,
  "metadata": {
    "colab": {
      "provenance": [],
      "toc_visible": true,
      "gpuType": "T4"
    },
    "kernelspec": {
      "name": "python3",
      "display_name": "Python 3"
    },
    "language_info": {
      "name": "python"
    },
    "accelerator": "GPU"
  },
  "cells": [
    {
      "cell_type": "markdown",
      "source": [
        "# Natural Language Processing (NLP) with TensorFlow: Sentiment Analysis on IMDB Reviews\n",
        "\n"
      ],
      "metadata": {
        "id": "5jcZsfCg3Fk0"
      }
    },
    {
      "cell_type": "markdown",
      "source": [
        "## Natural Language Processing (NLP)\n",
        "Natural Language Processing (NLP) is a branch of artificial intelligence (AI) that focuses on enabling computers to understand, interpret, and generate human language. NLP encompasses a wide range of tasks, from text analysis and sentiment classification to machine translation and text generation. It aims to bridge the gap between human language and machine understanding, enabling computers to process and derive meaning from textual data."
      ],
      "metadata": {
        "id": "FO7rvdB7jLfg"
      }
    },
    {
      "cell_type": "code",
      "source": [
        "import pandas as pd\n",
        "import numpy as np\n",
        "import matplotlib.pyplot as plt\n",
        "import tensorflow as tf"
      ],
      "metadata": {
        "id": "KBJ4Nl7RguUd"
      },
      "execution_count": 1,
      "outputs": []
    },
    {
      "cell_type": "code",
      "source": [
        "df = pd.read_csv(\"https://raw.githubusercontent.com/Sayed-Husain/AI-and-Deep-Learning-Bootcamp/main/Data/IMDB%20Dataset.csv\")\n",
        "\n",
        "df.head()"
      ],
      "metadata": {
        "colab": {
          "base_uri": "https://localhost:8080/",
          "height": 206
        },
        "id": "xCzo7pL_jcnr",
        "outputId": "c78443c4-52ac-460d-f139-732da9197e83"
      },
      "execution_count": 2,
      "outputs": [
        {
          "output_type": "execute_result",
          "data": {
            "text/plain": [
              "                                              review sentiment\n",
              "0  One of the other reviewers has mentioned that ...  positive\n",
              "1  A wonderful little production. <br /><br />The...  positive\n",
              "2  I thought this was a wonderful way to spend ti...  positive\n",
              "3  Basically there's a family where a little boy ...  negative\n",
              "4  Petter Mattei's \"Love in the Time of Money\" is...  positive"
            ],
            "text/html": [
              "\n",
              "  <div id=\"df-6856cc5e-6c96-4bbe-a3f2-d719109a8bd8\" class=\"colab-df-container\">\n",
              "    <div>\n",
              "<style scoped>\n",
              "    .dataframe tbody tr th:only-of-type {\n",
              "        vertical-align: middle;\n",
              "    }\n",
              "\n",
              "    .dataframe tbody tr th {\n",
              "        vertical-align: top;\n",
              "    }\n",
              "\n",
              "    .dataframe thead th {\n",
              "        text-align: right;\n",
              "    }\n",
              "</style>\n",
              "<table border=\"1\" class=\"dataframe\">\n",
              "  <thead>\n",
              "    <tr style=\"text-align: right;\">\n",
              "      <th></th>\n",
              "      <th>review</th>\n",
              "      <th>sentiment</th>\n",
              "    </tr>\n",
              "  </thead>\n",
              "  <tbody>\n",
              "    <tr>\n",
              "      <th>0</th>\n",
              "      <td>One of the other reviewers has mentioned that ...</td>\n",
              "      <td>positive</td>\n",
              "    </tr>\n",
              "    <tr>\n",
              "      <th>1</th>\n",
              "      <td>A wonderful little production. &lt;br /&gt;&lt;br /&gt;The...</td>\n",
              "      <td>positive</td>\n",
              "    </tr>\n",
              "    <tr>\n",
              "      <th>2</th>\n",
              "      <td>I thought this was a wonderful way to spend ti...</td>\n",
              "      <td>positive</td>\n",
              "    </tr>\n",
              "    <tr>\n",
              "      <th>3</th>\n",
              "      <td>Basically there's a family where a little boy ...</td>\n",
              "      <td>negative</td>\n",
              "    </tr>\n",
              "    <tr>\n",
              "      <th>4</th>\n",
              "      <td>Petter Mattei's \"Love in the Time of Money\" is...</td>\n",
              "      <td>positive</td>\n",
              "    </tr>\n",
              "  </tbody>\n",
              "</table>\n",
              "</div>\n",
              "    <div class=\"colab-df-buttons\">\n",
              "\n",
              "  <div class=\"colab-df-container\">\n",
              "    <button class=\"colab-df-convert\" onclick=\"convertToInteractive('df-6856cc5e-6c96-4bbe-a3f2-d719109a8bd8')\"\n",
              "            title=\"Convert this dataframe to an interactive table.\"\n",
              "            style=\"display:none;\">\n",
              "\n",
              "  <svg xmlns=\"http://www.w3.org/2000/svg\" height=\"24px\" viewBox=\"0 -960 960 960\">\n",
              "    <path d=\"M120-120v-720h720v720H120Zm60-500h600v-160H180v160Zm220 220h160v-160H400v160Zm0 220h160v-160H400v160ZM180-400h160v-160H180v160Zm440 0h160v-160H620v160ZM180-180h160v-160H180v160Zm440 0h160v-160H620v160Z\"/>\n",
              "  </svg>\n",
              "    </button>\n",
              "\n",
              "  <style>\n",
              "    .colab-df-container {\n",
              "      display:flex;\n",
              "      gap: 12px;\n",
              "    }\n",
              "\n",
              "    .colab-df-convert {\n",
              "      background-color: #E8F0FE;\n",
              "      border: none;\n",
              "      border-radius: 50%;\n",
              "      cursor: pointer;\n",
              "      display: none;\n",
              "      fill: #1967D2;\n",
              "      height: 32px;\n",
              "      padding: 0 0 0 0;\n",
              "      width: 32px;\n",
              "    }\n",
              "\n",
              "    .colab-df-convert:hover {\n",
              "      background-color: #E2EBFA;\n",
              "      box-shadow: 0px 1px 2px rgba(60, 64, 67, 0.3), 0px 1px 3px 1px rgba(60, 64, 67, 0.15);\n",
              "      fill: #174EA6;\n",
              "    }\n",
              "\n",
              "    .colab-df-buttons div {\n",
              "      margin-bottom: 4px;\n",
              "    }\n",
              "\n",
              "    [theme=dark] .colab-df-convert {\n",
              "      background-color: #3B4455;\n",
              "      fill: #D2E3FC;\n",
              "    }\n",
              "\n",
              "    [theme=dark] .colab-df-convert:hover {\n",
              "      background-color: #434B5C;\n",
              "      box-shadow: 0px 1px 3px 1px rgba(0, 0, 0, 0.15);\n",
              "      filter: drop-shadow(0px 1px 2px rgba(0, 0, 0, 0.3));\n",
              "      fill: #FFFFFF;\n",
              "    }\n",
              "  </style>\n",
              "\n",
              "    <script>\n",
              "      const buttonEl =\n",
              "        document.querySelector('#df-6856cc5e-6c96-4bbe-a3f2-d719109a8bd8 button.colab-df-convert');\n",
              "      buttonEl.style.display =\n",
              "        google.colab.kernel.accessAllowed ? 'block' : 'none';\n",
              "\n",
              "      async function convertToInteractive(key) {\n",
              "        const element = document.querySelector('#df-6856cc5e-6c96-4bbe-a3f2-d719109a8bd8');\n",
              "        const dataTable =\n",
              "          await google.colab.kernel.invokeFunction('convertToInteractive',\n",
              "                                                    [key], {});\n",
              "        if (!dataTable) return;\n",
              "\n",
              "        const docLinkHtml = 'Like what you see? Visit the ' +\n",
              "          '<a target=\"_blank\" href=https://colab.research.google.com/notebooks/data_table.ipynb>data table notebook</a>'\n",
              "          + ' to learn more about interactive tables.';\n",
              "        element.innerHTML = '';\n",
              "        dataTable['output_type'] = 'display_data';\n",
              "        await google.colab.output.renderOutput(dataTable, element);\n",
              "        const docLink = document.createElement('div');\n",
              "        docLink.innerHTML = docLinkHtml;\n",
              "        element.appendChild(docLink);\n",
              "      }\n",
              "    </script>\n",
              "  </div>\n",
              "\n",
              "\n",
              "<div id=\"df-c66b4b5b-b637-4b4f-8209-5fa7c421a509\">\n",
              "  <button class=\"colab-df-quickchart\" onclick=\"quickchart('df-c66b4b5b-b637-4b4f-8209-5fa7c421a509')\"\n",
              "            title=\"Suggest charts.\"\n",
              "            style=\"display:none;\">\n",
              "\n",
              "<svg xmlns=\"http://www.w3.org/2000/svg\" height=\"24px\"viewBox=\"0 0 24 24\"\n",
              "     width=\"24px\">\n",
              "    <g>\n",
              "        <path d=\"M19 3H5c-1.1 0-2 .9-2 2v14c0 1.1.9 2 2 2h14c1.1 0 2-.9 2-2V5c0-1.1-.9-2-2-2zM9 17H7v-7h2v7zm4 0h-2V7h2v10zm4 0h-2v-4h2v4z\"/>\n",
              "    </g>\n",
              "</svg>\n",
              "  </button>\n",
              "\n",
              "<style>\n",
              "  .colab-df-quickchart {\n",
              "    background-color: #E8F0FE;\n",
              "    border: none;\n",
              "    border-radius: 50%;\n",
              "    cursor: pointer;\n",
              "    display: none;\n",
              "    fill: #1967D2;\n",
              "    height: 32px;\n",
              "    padding: 0 0 0 0;\n",
              "    width: 32px;\n",
              "  }\n",
              "\n",
              "  .colab-df-quickchart:hover {\n",
              "    background-color: #E2EBFA;\n",
              "    box-shadow: 0px 1px 2px rgba(60, 64, 67, 0.3), 0px 1px 3px 1px rgba(60, 64, 67, 0.15);\n",
              "    fill: #174EA6;\n",
              "  }\n",
              "\n",
              "  [theme=dark] .colab-df-quickchart {\n",
              "    background-color: #3B4455;\n",
              "    fill: #D2E3FC;\n",
              "  }\n",
              "\n",
              "  [theme=dark] .colab-df-quickchart:hover {\n",
              "    background-color: #434B5C;\n",
              "    box-shadow: 0px 1px 3px 1px rgba(0, 0, 0, 0.15);\n",
              "    filter: drop-shadow(0px 1px 2px rgba(0, 0, 0, 0.3));\n",
              "    fill: #FFFFFF;\n",
              "  }\n",
              "</style>\n",
              "\n",
              "  <script>\n",
              "    async function quickchart(key) {\n",
              "      const charts = await google.colab.kernel.invokeFunction(\n",
              "          'suggestCharts', [key], {});\n",
              "    }\n",
              "    (() => {\n",
              "      let quickchartButtonEl =\n",
              "        document.querySelector('#df-c66b4b5b-b637-4b4f-8209-5fa7c421a509 button');\n",
              "      quickchartButtonEl.style.display =\n",
              "        google.colab.kernel.accessAllowed ? 'block' : 'none';\n",
              "    })();\n",
              "  </script>\n",
              "</div>\n",
              "    </div>\n",
              "  </div>\n"
            ]
          },
          "metadata": {},
          "execution_count": 2
        }
      ]
    },
    {
      "cell_type": "code",
      "source": [
        "plt.pie(df.sentiment.value_counts());"
      ],
      "metadata": {
        "colab": {
          "base_uri": "https://localhost:8080/",
          "height": 406
        },
        "id": "QBSUqOXzjkf0",
        "outputId": "4ddb037e-7876-469f-b50e-5d68165cba6e"
      },
      "execution_count": 22,
      "outputs": [
        {
          "output_type": "display_data",
          "data": {
            "text/plain": [
              "<Figure size 640x480 with 1 Axes>"
            ],
            "image/png": "[encoded data removed]"
          },
          "metadata": {}
        }
      ]
    },
    {
      "cell_type": "markdown",
      "source": [
        "## Understanding NLP, TextVectorization, and Embedding\n"
      ],
      "metadata": {
        "id": "DIypXkdAmVLs"
      }
    },
    {
      "cell_type": "markdown",
      "source": [
        "### TextVectorization\n",
        "TextVectorization is a preprocessing technique in NLP that converts raw text data into numerical vectors that can be used as input for machine learning models. It involves several steps:\n",
        "\n",
        "1. **Tokenization**: Text is split into individual words or subwords, known as tokens. or example, the sentence \"I love NLP\" might be tokenized into [\"I\", \"love\", \"NLP\"].\n",
        "\n",
        "2. **Vocabulary Building:** A vocabulary is created by mapping each unique token to a unique integer index. The vocabulary captures the set of all tokens present in the dataset.\n",
        "\n",
        "3. **Vectorization:** Each text sample is represented as a sequence of integer indices corresponding to the tokens in the vocabulary. These sequences can be of fixed or variable lengths.\n",
        "\n",
        "TextVectorization helps transform raw text data into a format that machine learning models can understand and process. It prepares the data for tasks like sentiment analysis, text classification, and more."
      ],
      "metadata": {
        "id": "ZdQegaCCj9ka"
      }
    },
    {
      "cell_type": "code",
      "source": [
        "# Step 1: Create the TextVectorization and specify the size of the vocabulary\n",
        "\n",
        "from tensorflow.keras.layers import TextVectorization\n",
        "\n",
        "# Use the default TextVectorization variables\n",
        "text_vectorizer = TextVectorization(20000) # Number of the vocabulary"
      ],
      "metadata": {
        "id": "s8u4ke_NjUaN"
      },
      "execution_count": 4,
      "outputs": []
    },
    {
      "cell_type": "code",
      "source": [
        "# Step 2: Adapt (Create the vocabulary list)\n",
        "text_vectorizer.adapt(df.review)"
      ],
      "metadata": {
        "id": "3Y-3IfUIkHpo"
      },
      "execution_count": 5,
      "outputs": []
    },
    {
      "cell_type": "code",
      "source": [
        "# Create sample sentence and tokenize it\n",
        "sample_sentence = \"Hi, I am an AI developer\"\n",
        "text_vectorizer([sample_sentence])"
      ],
      "metadata": {
        "colab": {
          "base_uri": "https://localhost:8080/"
        },
        "id": "3mcp6O36kHuj",
        "outputId": "7e4907c7-b3fa-45af-ce8f-887d2b02a898"
      },
      "execution_count": 6,
      "outputs": [
        {
          "output_type": "execute_result",
          "data": {
            "text/plain": [
              "<tf.Tensor: shape=(1, 6), dtype=int64, numpy=array([[ 7869,    10,   227,    34, 14739,     1]])>"
            ]
          },
          "metadata": {},
          "execution_count": 6
        }
      ]
    },
    {
      "cell_type": "code",
      "source": [
        "# To confirm, lets take a random review and tokenize it\n",
        "import random\n",
        "\n",
        "random_sentence = random.choice(df.review)\n",
        "print(\"Original Sentence: \" + random_sentence)\n",
        "print(\"Tokenized Version: \")\n",
        "text_vectorizer([random_sentence])"
      ],
      "metadata": {
        "colab": {
          "base_uri": "https://localhost:8080/"
        },
        "id": "BjEgOTEek8ah",
        "outputId": "ecbbc185-43e8-4a4b-ae07-855eeb13e38f"
      },
      "execution_count": 7,
      "outputs": [
        {
          "output_type": "stream",
          "name": "stdout",
          "text": [
            "Original Sentence: I remember this movie in particular when I was a teenager, my best friend was telling me all about this movie and how it freaked her out as a kid. Of course being the blood thirsty gal that I am, I had to go out and find this movie. Now I don't know how to put this without loosing credibility, so I'm just going to say it, I actually had fun watching this movie! I know that it's stupid, not the best story and beyond bloody and gruesome, but that's what I was looking for and The Dentist delivers in the scares, blood, sex, and crazy psychopaths. Sometimes I just need a fun movie like this to just let loose and get grossed out by.<br /><br />Dr. Alan Feinstone is obsessed with order and cleanliness. On the day of his wedding anniversary, he spies his wife Brooke having sex with their filthy pool man, Matt. At his dental practice, Feinstone's first patient of the day is young Jody Saunders, there for his very first dental appointment. Feinstone begins to clean Jody's teeth. Everything goes smoothly at first, until he imagines that Jody's teeth are brown and rotten. His dental pick slips, stabbing Jody in the gums. Jody's mother picks up her crying, bleeding child and leaves angrily. Feinstone sees his second patient, beauty queen April Reign. Alone with April, Feinstone sedates her with nitrous oxide so that he can fill a cavity in one of her molars. As she drifts off into unconsciousness, Feinstone imagines that she has transformed into his wife. He begins kissing and fondling her on the dental chair, then begins to choke her. April starts to cough and half-wakes up from the gas. Feinstone snaps out of his trance and quickly re-buttons April's blouse. Feinstone decides to end the day early and sends his staff and patients home. Later that night, Brooke meets Feinstone at his practice. He reveals his new Italian opera-themed patient room. He encourages Brooke to try out the room's dental chair. When she does, Feinstone binds her to the chair and sedates her with nitrous oxide. With operatic music blaring in the background, he begins to pull out Brooke's teeth. Feinstone has gone off the deep end and is definitely not going to let anybody stand in his way of cleanliness.<br /><br />Honestly, as silly as this movie sounds, I did have a lot of fun watching The Dentist. The best scene without a doubt is when he teaches that nasty IRS agent a lesson in hygiene that I'm sure he'll never forget. Man, I don't think I've brushed my teeth so much after I watched The Dentist. Yeah, I am going to warn you, this movie is in no way for the faint of heart, it's very bloody. There's stabbing, gun shots and just these brutal dental torture scenes that will make your stomach turn. Yet somehow I just enjoyed this movie, if I ever want just a good gore movie that was made for true horror fans, I slip it in my DVD player, and that's the \"tooth\" LOL! I am so funny! Um, yeah, I try, give me a little credit.<br /><br />7/10\n",
            "Tokenized Version: \n"
          ]
        },
        {
          "output_type": "execute_result",
          "data": {
            "text/plain": [
              "<tf.Tensor: shape=(1, 534), dtype=int64, numpy=\n",
              "array([[   10,   373,    11,    18,     8,   837,    51,    10,    14,\n",
              "            4,  2146,    54,   117,   446,    14,  1024,    70,    32,\n",
              "           43,    11,    18,     3,    86,     9,  9773,    42,    46,\n",
              "           15,     4,   542,     5,   260,   107,     2,   553, 16054,\n",
              "         6019,    12,    10,   227,    10,    68,     6,   139,    46,\n",
              "            3,   160,    11,    18,   149,    10,    90,   118,    86,\n",
              "            6,   264,    11,   200, 12697,  2968,    38,   142,    41,\n",
              "          162,     6,   129,     9,    10,   155,    68,   247,   146,\n",
              "           11,    18,    10,   118,    12,    30,   362,    22,     2,\n",
              "          117,    67,     3,   650,  1667,     3,  2797,    19,   175,\n",
              "           49,    10,    14,   269,    17,     3,     2,  4571,  1483,\n",
              "            8,     2,  2800,   553,   382,     3,   944, 16480,   519,\n",
              "           10,    41,   344,     4,   247,    18,    39,    11,     6,\n",
              "           41,   368,  1766,     3,    76, 15566,    46, 14705,    13,\n",
              "          788,  1774, 12937,     7,  2400,    16,   622,     3,     1,\n",
              "           21,     2,   266,     5,    25,  2043,  9365,    28,  7324,\n",
              "           25,   328,  9052,   256,   382,    16,    64,  6723,  3291,\n",
              "          132,  2208,    31,    25, 11815,  4271,     1,    88,  2473,\n",
              "            5,     2,   266,     7,   183,     1,     1,    48,    17,\n",
              "           25,    53,    88, 11815, 17929, 12937,   823,     6,  2190,\n",
              "            1,  2705,   265,   263,  8112,    31,    88,   351,    28,\n",
              "        11311,    12,     1,  2705,    24,  1876,     3,  4321,    25,\n",
              "        11815,  1195,  8556,  9174,     1,     8,     2,     1,     1,\n",
              "          431,  2902,    57,    42,  2482,  8950,   546,     3,   856,\n",
              "        17502, 12937,  1047,    25,   336,  2473,   899,  1647,  4819,\n",
              "         6173,   628,    16,  4819, 12937,     1,    42,    16,     1,\n",
              "            1,    38,    12,    28,    69,  2118,     4,     1,     8,\n",
              "           29,     5,    42,     1,    15,    59, 15291,   125,    82,\n",
              "            1, 12937, 11311,    12,    59,    45,  5440,    82,    25,\n",
              "          328,    28,   823,  5473,     3,     1,    42,    21,     2,\n",
              "        11815,  3045,    91,   823,     6, 11057,    42,  4819,   516,\n",
              "            6, 11201,     3,     1,    57,    36,     2,  2817, 12937,\n",
              "        12075,    46,     5,    25, 13686,     3,   925,     1,     1,\n",
              "        19342, 12937,  1059,     6,   130,     2,   266,   400,     3,\n",
              "         3150,    25,  3557,     3,  4257,   345,   303,    12,   315,\n",
              "         9052,   889, 12937,    31,    25,  4271,    28,  2660,    25,\n",
              "          166,  1055,     1,  2473,   691,    28,  8850,  9052,     6,\n",
              "          343,    46,     2,  4254, 11815,  3045,    51,    59,   122,\n",
              "        12937,     1,    42,     6,     2,  3045,     3,     1,    42,\n",
              "           16,     1,     1,    16, 10327,   207, 19345,     8,     2,\n",
              "          948,    28,   823,     6,  1439,    46,     1,  2705, 12937,\n",
              "           45,   776,   125,     2,   855,   130,     3,     7,   388,\n",
              "           22,   162,     6,   368,  1719,   871,     8,    25,    99,\n",
              "            5,     1,    13,  1186,    15,   668,    15,    11,    18,\n",
              "          912,    10,   114,    26,     4,   165,     5,   247,   146,\n",
              "            2,  4571,     2,   117,   131,   200,     4,   780,     7,\n",
              "           51,    28,  4754,    12,  1576, 13560,  1485,     4,  2032,\n",
              "            8,     1,    12,   142,   244,   544,   110,   820,   132,\n",
              "           10,    90,   103,   196,     1,    54,  2705,    38,    73,\n",
              "          101,    10,   279,     2,  4571,  1146,    10,   227,   162,\n",
              "            6,  3090,    23,    11,    18,     7,     8,    56,    99,\n",
              "           17,     2,  8377,     5,   534,    30,    53,  1667,   212,\n",
              "         9174,  1042,   632,     3,    41,   127,  1735, 11815,  1620,\n",
              "          135,    12,    77,    95,   123,  3023,   472,   240,   814,\n",
              "           10,    41,   498,    11,    18,    44,    10,   121,   176,\n",
              "           41,     4,    50,   636,    18,    12,    14,    93,    17,\n",
              "          287,   194,   455,    10,  6168,     9,     8,    54,   272,\n",
              "         1848,     3,   175,     2,  6876,  4834,    10,   227,    38,\n",
              "          156,  7533,  1146,    10,   343,   193,    70,     4,   116,\n",
              "            1,    13,  2479]])>"
            ]
          },
          "metadata": {},
          "execution_count": 7
        }
      ]
    },
    {
      "cell_type": "markdown",
      "source": [
        "### Embedding\n",
        "Embedding is a fundamental concept in NLP that involves mapping words or tokens from a vocabulary to dense vectors in a continuous space. These dense vectors, known as word embeddings, capture semantic relationships between words. Word embeddings are learned from data and carry information about word meanings and relationships.\n",
        "\n",
        "In NLP models, an embedding layer is often used to map integer-encoded tokens to their corresponding word embeddings. This layer learns to associate words with vectors in such a way that similar words are closer in the embedding space. Embeddings enhance model performance by allowing it to generalize word meanings and understand relationships between words."
      ],
      "metadata": {
        "id": "lENfUmBPlin3"
      }
    },
    {
      "cell_type": "code",
      "source": [
        "# Create an embedding layer\n",
        "embedding = tf.keras.layers.Embedding(input_dim = 20000, # set input shape (the vocabulary size)\n",
        "                                     output_dim = 32) # Relationship between words (the higher the number, the more complex the relationship gets)\n"
      ],
      "metadata": {
        "id": "czCYnjG0kHys"
      },
      "execution_count": 8,
      "outputs": []
    },
    {
      "cell_type": "code",
      "source": [
        "# Create sample sentence and tokenize it, then embed it\n",
        "sample_sentence = \"Hi, I am an AI developer\"\n",
        "embedding(text_vectorizer([sample_sentence]))"
      ],
      "metadata": {
        "colab": {
          "base_uri": "https://localhost:8080/"
        },
        "id": "MUQpCy9nluqv",
        "outputId": "bf720b34-aba9-4743-f650-1eaf250553c5"
      },
      "execution_count": 9,
      "outputs": [
        {
          "output_type": "execute_result",
          "data": {
            "text/plain": [
              "<tf.Tensor: shape=(1, 6, 32), dtype=float32, numpy=\n",
              "array([[[-0.00464096,  0.03033643,  0.02118028,  0.0188549 ,\n",
              "          0.03204961, -0.00197672, -0.02679323, -0.02697771,\n",
              "         -0.03178073, -0.00915281,  0.01259855,  0.0458838 ,\n",
              "         -0.00688763,  0.03000876, -0.03463098,  0.04320988,\n",
              "         -0.01721519, -0.02018221, -0.03416524,  0.02594179,\n",
              "         -0.03320684, -0.02012844, -0.04967786,  0.02299986,\n",
              "         -0.00789645,  0.03606239,  0.04569738, -0.00754238,\n",
              "          0.00484539,  0.00658226,  0.02977129,  0.02737487],\n",
              "        [ 0.04098124, -0.01022293,  0.0002941 ,  0.00848959,\n",
              "          0.00688078, -0.02389263,  0.03927061,  0.02128396,\n",
              "         -0.02001007,  0.01012361,  0.00063753,  0.01322407,\n",
              "          0.00602251,  0.02812502,  0.0015435 , -0.01301654,\n",
              "         -0.03966885, -0.00399882,  0.00939203, -0.03183   ,\n",
              "          0.01390005,  0.01437268,  0.03362716, -0.02421597,\n",
              "         -0.04542769,  0.00772567,  0.01699675,  0.01364693,\n",
              "         -0.01400103,  0.0233208 ,  0.00246936, -0.00367321],\n",
              "        [ 0.0259029 ,  0.00928544,  0.01945439, -0.02255005,\n",
              "          0.01935348, -0.03956529, -0.03950218, -0.03789288,\n",
              "         -0.02903413, -0.01004493, -0.04779347, -0.03933185,\n",
              "         -0.04776516, -0.00524006,  0.00444625,  0.01361077,\n",
              "         -0.02241871,  0.01215871, -0.03752873,  0.0256758 ,\n",
              "         -0.00211644, -0.01380127,  0.01608369, -0.00668454,\n",
              "         -0.04450437,  0.03276924,  0.04720723,  0.013715  ,\n",
              "         -0.03043218,  0.01059996, -0.02987931,  0.02059482],\n",
              "        [-0.01343144,  0.00077759,  0.04637302,  0.01438062,\n",
              "         -0.0496563 , -0.01425842,  0.01294878,  0.03001133,\n",
              "          0.01270897, -0.04096937,  0.00698727,  0.04919044,\n",
              "          0.03012586,  0.01675054, -0.04263177, -0.01903343,\n",
              "         -0.03522167, -0.01371257, -0.01738884, -0.02445426,\n",
              "         -0.04217076,  0.02698723,  0.0039505 , -0.00170387,\n",
              "          0.03346577, -0.04401766, -0.03518755, -0.04813578,\n",
              "          0.02521135, -0.00589389, -0.02302381, -0.03412719],\n",
              "        [ 0.        ,  0.        ,  0.        ,  0.        ,\n",
              "          0.        ,  0.        ,  0.        ,  0.        ,\n",
              "          0.        ,  0.        ,  0.        ,  0.        ,\n",
              "          0.        ,  0.        ,  0.        ,  0.        ,\n",
              "          0.        ,  0.        ,  0.        ,  0.        ,\n",
              "          0.        ,  0.        ,  0.        ,  0.        ,\n",
              "          0.        ,  0.        ,  0.        ,  0.        ,\n",
              "          0.        ,  0.        ,  0.        ,  0.        ],\n",
              "        [ 0.04204993, -0.04530725, -0.01713831,  0.00637757,\n",
              "         -0.00513697, -0.0076772 ,  0.0056512 , -0.01668831,\n",
              "         -0.03534585, -0.04459186, -0.01399169, -0.01570458,\n",
              "          0.01459069,  0.01242124, -0.02008538,  0.04014866,\n",
              "         -0.02789549,  0.04053891, -0.03762463, -0.04304496,\n",
              "         -0.01602163, -0.0257201 ,  0.04340554, -0.01302331,\n",
              "          0.0176718 , -0.04268553,  0.00923998,  0.04748816,\n",
              "         -0.01381711,  0.04202402, -0.03108749,  0.04209211]]],\n",
              "      dtype=float32)>"
            ]
          },
          "metadata": {},
          "execution_count": 9
        }
      ]
    },
    {
      "cell_type": "markdown",
      "source": [
        "## Prepare the dateaset"
      ],
      "metadata": {
        "id": "74S_UQCZmCYO"
      }
    },
    {
      "cell_type": "code",
      "source": [
        "X = df.review\n",
        "y = df.sentiment"
      ],
      "metadata": {
        "id": "SOXv9HqtqvoJ"
      },
      "execution_count": 10,
      "outputs": []
    },
    {
      "cell_type": "code",
      "source": [
        "y[y == \"positive\"] = 1\n",
        "y[y == \"negative\"] = 0\n",
        "y = np.asarray(y, np.float32).reshape((-1,1))"
      ],
      "metadata": {
        "id": "2YKs4B1gol92"
      },
      "execution_count": 11,
      "outputs": []
    },
    {
      "cell_type": "code",
      "source": [
        "X_train = X[:1000]\n",
        "X_test = X[1000:]\n",
        "\n",
        "y_train = y[:1000]\n",
        "y_test = y[1000:]"
      ],
      "metadata": {
        "id": "h7wYrkhMn1Z1"
      },
      "execution_count": 12,
      "outputs": []
    },
    {
      "cell_type": "markdown",
      "source": [
        "## Bulid the model"
      ],
      "metadata": {
        "id": "W3t9YQVm2Rx4"
      }
    },
    {
      "cell_type": "markdown",
      "source": [
        "### 1. Dense model"
      ],
      "metadata": {
        "id": "li0gSOee2UFh"
      }
    },
    {
      "cell_type": "code",
      "source": [
        "# 1. Bulid the Model\n",
        "model = tf.keras.Sequential([\n",
        "    tf.keras.layers.Input(dtype=tf.string, shape=(1,)),\n",
        "    text_vectorizer,\n",
        "    embedding,\n",
        "    tf.keras.layers.Dense(128, activation='relu'),\n",
        "    tf.keras.layers.Dense(1, activation='sigmoid')\n",
        "])\n",
        "\n",
        "model.summary()"
      ],
      "metadata": {
        "colab": {
          "base_uri": "https://localhost:8080/"
        },
        "id": "Xp63fZYTmO9w",
        "outputId": "ac85b0ce-ffbb-4b28-db19-b49ed37d9ded"
      },
      "execution_count": 13,
      "outputs": [
        {
          "output_type": "stream",
          "name": "stdout",
          "text": [
            "Model: \"sequential\"\n",
            "_________________________________________________________________\n",
            " Layer (type)                Output Shape              Param #   \n",
            "=================================================================\n",
            " text_vectorization (TextVec  (None, None)             0         \n",
            " torization)                                                     \n",
            "                                                                 \n",
            " embedding (Embedding)       (None, None, 32)          320000    \n",
            "                                                                 \n",
            " dense (Dense)               (None, None, 128)         4224      \n",
            "                                                                 \n",
            " dense_1 (Dense)             (None, None, 1)           129       \n",
            "                                                                 \n",
            "=================================================================\n",
            "Total params: 324,353\n",
            "Trainable params: 324,353\n",
            "Non-trainable params: 0\n",
            "_________________________________________________________________\n"
          ]
        }
      ]
    },
    {
      "cell_type": "code",
      "source": [
        "# 2. Compile the model\n",
        "model.compile(optimizer=\"Adam\",\n",
        "              loss=tf.keras.losses.BinaryCrossentropy(),\n",
        "              metrics=[\"accuracy\"])"
      ],
      "metadata": {
        "id": "tTP0HNLQml9v"
      },
      "execution_count": 14,
      "outputs": []
    },
    {
      "cell_type": "code",
      "source": [
        "# 3. Fit / Train\n",
        "model.fit(X_train, y_train, validation_data=(X_test, y_test), epochs=5)"
      ],
      "metadata": {
        "colab": {
          "base_uri": "https://localhost:8080/"
        },
        "id": "mgY204KSnafd",
        "outputId": "2709d358-bd60-4c03-f107-6327c3695454"
      },
      "execution_count": 15,
      "outputs": [
        {
          "output_type": "stream",
          "name": "stdout",
          "text": [
            "Epoch 1/5\n",
            "32/32 [==============================] - 18s 495ms/step - loss: 0.6937 - accuracy: 0.5001 - val_loss: 0.6929 - val_accuracy: 0.5083\n",
            "Epoch 2/5\n",
            "32/32 [==============================] - 16s 515ms/step - loss: 0.6928 - accuracy: 0.5123 - val_loss: 0.6925 - val_accuracy: 0.5105\n",
            "Epoch 3/5\n",
            "32/32 [==============================] - 14s 445ms/step - loss: 0.6924 - accuracy: 0.5053 - val_loss: 0.6919 - val_accuracy: 0.5118\n",
            "Epoch 4/5\n",
            "32/32 [==============================] - 17s 532ms/step - loss: 0.6901 - accuracy: 0.5275 - val_loss: 0.6913 - val_accuracy: 0.5132\n",
            "Epoch 5/5\n",
            "32/32 [==============================] - 14s 445ms/step - loss: 0.6882 - accuracy: 0.5245 - val_loss: 0.6913 - val_accuracy: 0.5133\n"
          ]
        },
        {
          "output_type": "execute_result",
          "data": {
            "text/plain": [
              "<keras.callbacks.History at 0x7f44c445c040>"
            ]
          },
          "metadata": {},
          "execution_count": 15
        }
      ]
    },
    {
      "cell_type": "markdown",
      "source": [
        "### 2. RNN Model"
      ],
      "metadata": {
        "id": "-RvL1UPK2XG7"
      }
    },
    {
      "cell_type": "code",
      "source": [
        "# 1. Bulid the Model\n",
        "model_rnn = tf.keras.Sequential([\n",
        "    tf.keras.layers.Input(dtype=tf.string, shape=(1,)),\n",
        "    text_vectorizer,\n",
        "    embedding,\n",
        "    tf.keras.layers.Bidirectional(tf.keras.layers.LSTM(64)),  # Simple RNN layer\n",
        "    tf.keras.layers.Dense(1, activation='sigmoid')\n",
        "])\n",
        "\n",
        "# 2. Compile\n",
        "model_rnn.compile(optimizer='adam', loss='binary_crossentropy', metrics=['accuracy'])\n",
        "\n",
        "# 3. Fit\n",
        "model_rnn.fit(X_train, y_train, validation_data=(X_test, y_test), epochs=5)"
      ],
      "metadata": {
        "colab": {
          "base_uri": "https://localhost:8080/"
        },
        "id": "5j5Hk4uQndsT",
        "outputId": "882f5c7a-2694-409f-a422-2d17ce30d5b9"
      },
      "execution_count": 16,
      "outputs": [
        {
          "output_type": "stream",
          "name": "stdout",
          "text": [
            "Epoch 1/5\n",
            "32/32 [==============================] - 54s 2s/step - loss: 0.6585 - accuracy: 0.6160 - val_loss: 0.6516 - val_accuracy: 0.6849\n",
            "Epoch 2/5\n",
            "32/32 [==============================] - 49s 2s/step - loss: 0.5614 - accuracy: 0.8580 - val_loss: 0.5768 - val_accuracy: 0.7512\n",
            "Epoch 3/5\n",
            "32/32 [==============================] - 48s 2s/step - loss: 0.4253 - accuracy: 0.8410 - val_loss: 0.5888 - val_accuracy: 0.7335\n",
            "Epoch 4/5\n",
            "32/32 [==============================] - 48s 2s/step - loss: 0.3400 - accuracy: 0.8880 - val_loss: 0.5280 - val_accuracy: 0.7555\n",
            "Epoch 5/5\n",
            "32/32 [==============================] - 48s 2s/step - loss: 0.2392 - accuracy: 0.9440 - val_loss: 0.6334 - val_accuracy: 0.7363\n"
          ]
        },
        {
          "output_type": "execute_result",
          "data": {
            "text/plain": [
              "<keras.callbacks.History at 0x7f44c53b3400>"
            ]
          },
          "metadata": {},
          "execution_count": 16
        }
      ]
    },
    {
      "cell_type": "markdown",
      "source": [
        "### 3. Transfer Learning Model\n",
        "\n",
        "We will use **`Google`**'s own **`universal-sentence-encoder`** model found [**Here**](https://tfhub.dev/google/universal-sentence-encoder/4)\n",
        "\n"
      ],
      "metadata": {
        "id": "dbgMIeuarpnY"
      }
    },
    {
      "cell_type": "code",
      "source": [
        "import tensorflow_hub as hub\n",
        "\n",
        "# We can use this encoding layer in place of our text_vectorizer and embedding layer\n",
        "sentence_encoder_layer = hub.KerasLayer(\"https://tfhub.dev/google/universal-sentence-encoder/4\",\n",
        "                                        input_shape=[], # shape of inputs coming to our model\n",
        "                                        dtype=tf.string) # data type of inputs coming to the USE layer"
      ],
      "metadata": {
        "id": "TP_ajhHutMRA"
      },
      "execution_count": 17,
      "outputs": []
    },
    {
      "cell_type": "code",
      "source": [
        "# Create model using the Sequential API\n",
        "model = tf.keras.Sequential([\n",
        "  sentence_encoder_layer, # take in sentences and then encode them into an embedding\n",
        "  tf.keras.layers.Dense(64, activation=\"relu\"),\n",
        "  tf.keras.layers.Dense(1, activation=\"sigmoid\")\n",
        "])\n",
        "\n",
        "# Compile model\n",
        "model.compile(loss=\"binary_crossentropy\",\n",
        "                optimizer=tf.keras.optimizers.Adam(),\n",
        "                metrics=[\"accuracy\"])\n",
        "\n",
        "# Fit the model\n",
        "model.fit(X_train, y_train, validation_data=(X_test, y_test), epochs=5)"
      ],
      "metadata": {
        "colab": {
          "base_uri": "https://localhost:8080/"
        },
        "id": "t7dV-FK3tdWV",
        "outputId": "40c71e30-c38c-45fc-9c97-1fd79f6cc5cb"
      },
      "execution_count": 18,
      "outputs": [
        {
          "output_type": "stream",
          "name": "stdout",
          "text": [
            "Epoch 1/5\n",
            "32/32 [==============================] - 63s 2s/step - loss: 0.6593 - accuracy: 0.6930 - val_loss: 0.6169 - val_accuracy: 0.7797\n",
            "Epoch 2/5\n",
            "32/32 [==============================] - 83s 3s/step - loss: 0.5596 - accuracy: 0.8200 - val_loss: 0.5245 - val_accuracy: 0.8047\n",
            "Epoch 3/5\n",
            "32/32 [==============================] - 57s 2s/step - loss: 0.4593 - accuracy: 0.8520 - val_loss: 0.4533 - val_accuracy: 0.8204\n",
            "Epoch 4/5\n",
            "32/32 [==============================] - 83s 3s/step - loss: 0.3898 - accuracy: 0.8650 - val_loss: 0.4134 - val_accuracy: 0.8265\n",
            "Epoch 5/5\n",
            "32/32 [==============================] - 58s 2s/step - loss: 0.3450 - accuracy: 0.8690 - val_loss: 0.3885 - val_accuracy: 0.8308\n"
          ]
        },
        {
          "output_type": "execute_result",
          "data": {
            "text/plain": [
              "<keras.callbacks.History at 0x7f447d43edd0>"
            ]
          },
          "metadata": {},
          "execution_count": 18
        }
      ]
    },
    {
      "cell_type": "code",
      "source": [
        "model.predict([\"This is the best movie I ever saw in my entire life. just Wow.\"])"
      ],
      "metadata": {
        "colab": {
          "base_uri": "https://localhost:8080/"
        },
        "id": "xPy1_rKhuFml",
        "outputId": "12c923e2-c950-4487-e72d-61d93b080172"
      },
      "execution_count": 19,
      "outputs": [
        {
          "output_type": "stream",
          "name": "stdout",
          "text": [
            "1/1 [==============================] - 0s 407ms/step\n"
          ]
        },
        {
          "output_type": "execute_result",
          "data": {
            "text/plain": [
              "array([[0.8861213]], dtype=float32)"
            ]
          },
          "metadata": {},
          "execution_count": 19
        }
      ]
    },
    {
      "cell_type": "code",
      "source": [
        "model.predict([\"I barely watched the movie, terrible plot, terrible acting, bad experience in general. Do not waste your money.\"])"
      ],
      "metadata": {
        "colab": {
          "base_uri": "https://localhost:8080/"
        },
        "id": "YFoIC2M1yw1-",
        "outputId": "53d83547-60f1-466b-8e62-968c5b6ca6ab"
      },
      "execution_count": 20,
      "outputs": [
        {
          "output_type": "stream",
          "name": "stdout",
          "text": [
            "1/1 [==============================] - 0s 44ms/step\n"
          ]
        },
        {
          "output_type": "execute_result",
          "data": {
            "text/plain": [
              "array([[0.02214688]], dtype=float32)"
            ]
          },
          "metadata": {},
          "execution_count": 20
        }
      ]
    },
    {
      "cell_type": "code",
      "source": [
        "model.predict([\"I mean it alright, overrated if you want my opinion.\"])"
      ],
      "metadata": {
        "colab": {
          "base_uri": "https://localhost:8080/"
        },
        "id": "LT2V2M3Ty-NG",
        "outputId": "0fe373c4-1425-46c7-ecb6-cbf26b8fc702"
      },
      "execution_count": 21,
      "outputs": [
        {
          "output_type": "stream",
          "name": "stdout",
          "text": [
            "1/1 [==============================] - 0s 54ms/step\n"
          ]
        },
        {
          "output_type": "execute_result",
          "data": {
            "text/plain": [
              "array([[0.38793907]], dtype=float32)"
            ]
          },
          "metadata": {},
          "execution_count": 21
        }
      ]
    },
    {
      "cell_type": "code",
      "source": [],
      "metadata": {
        "id": "zrt2Aws9zGKm"
      },
      "execution_count": 21,
      "outputs": []
    }
  ]
}